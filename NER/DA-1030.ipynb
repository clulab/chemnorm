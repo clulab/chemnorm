{
 "cells": [
  {
   "cell_type": "code",
   "execution_count": 1,
   "id": "27da1f9c",
   "metadata": {
    "scrolled": true
   },
   "outputs": [],
   "source": [
    "import pandas as pd\n",
    "import numpy as np\n",
    "import xml.etree.ElementTree as ET\n",
    "# from lxml import etree\n",
    "import re\n",
    "from tqdm import tqdm\n",
    "import json\n",
    "import random\n",
    "from nltk.tokenize import word_tokenize\n",
    "\n",
    "from IPython.core.interactiveshell import InteractiveShell\n",
    "InteractiveShell.ast_node_interactivity = \"all\""
   ]
  },
  {
   "cell_type": "code",
   "execution_count": 2,
   "id": "f070aad7",
   "metadata": {
    "scrolled": true
   },
   "outputs": [],
   "source": [
    "df = pd.read_csv('supp_names_ui_refer_ui.csv')"
   ]
  },
  {
   "cell_type": "code",
   "execution_count": 3,
   "id": "81a1ae48",
   "metadata": {
    "scrolled": true
   },
   "outputs": [],
   "source": [
    "supp_list = df['supp_names'].tolist()"
   ]
  },
  {
   "cell_type": "code",
   "execution_count": 4,
   "id": "96b2967e",
   "metadata": {
    "scrolled": true
   },
   "outputs": [],
   "source": [
    "pattern_4 = '[A-Z][A-Z][A-Z][A-Z]'\n",
    "acro_5 = []\n",
    "\n",
    "for name in supp_list:\n",
    "    if re.findall(pattern_4, name) and ',' not in name and '(' not in name:\n",
    "        acro_5.append(name)\n",
    "        \n",
    "# acro_5"
   ]
  },
  {
   "cell_type": "code",
   "execution_count": 5,
   "id": "11f555e6",
   "metadata": {
    "scrolled": true
   },
   "outputs": [
    {
     "data": {
      "text/plain": [
       "3433"
      ]
     },
     "execution_count": 5,
     "metadata": {},
     "output_type": "execute_result"
    }
   ],
   "source": [
    "len(acro_5)"
   ]
  },
  {
   "cell_type": "code",
   "execution_count": 7,
   "id": "f6094006",
   "metadata": {},
   "outputs": [
    {
     "data": {
      "text/plain": [
       "13325"
      ]
     },
     "execution_count": 7,
     "metadata": {},
     "output_type": "execute_result"
    }
   ],
   "source": [
    "pattern_3 = '[A-Z][A-Z][A-Z]'\n",
    "acro_3 = []\n",
    "\n",
    "for name in supp_list:\n",
    "    if re.findall(pattern_3, name) and ',' not in name and '(' not in name:\n",
    "        acro_3.append(name)\n",
    "        \n",
    "len(acro_3)        "
   ]
  },
  {
   "cell_type": "code",
   "execution_count": 10,
   "id": "2a33143f",
   "metadata": {},
   "outputs": [
    {
     "data": {
      "text/plain": [
       "22957"
      ]
     },
     "execution_count": 10,
     "metadata": {},
     "output_type": "execute_result"
    }
   ],
   "source": [
    "pattern_2 = '[A-Z][A-Z]'\n",
    "acro_2 = []\n",
    "\n",
    "for name in supp_list:\n",
    "    if re.findall(pattern_2, name) and ',' not in name and '(' not in name:\n",
    "        acro_2.append(name)\n",
    "        \n",
    "len(acro_2)  "
   ]
  },
  {
   "cell_type": "code",
   "execution_count": 11,
   "id": "46396d6c",
   "metadata": {
    "scrolled": true
   },
   "outputs": [],
   "source": [
    "records = []\n",
    "with open('BC7T2-NLMChem-corpus_v2.BioC.train.json', 'r') as f:\n",
    "    records = [json.loads(line) for line in f]"
   ]
  },
  {
   "cell_type": "code",
   "execution_count": 12,
   "id": "b1f0149c",
   "metadata": {
    "scrolled": true
   },
   "outputs": [],
   "source": [
    "# Tokenize the given replacement\n",
    "def get_tokens(replacement):\n",
    "    if '-' in replacement:\n",
    "        t = replacement.split('-')\n",
    "        tokens = ['-'] * (len(t) * 2 - 1)\n",
    "        tokens[0::2] = t\n",
    "\n",
    "        res = []\n",
    "        for token in tokens:\n",
    "            res += word_tokenize(token)\n",
    "        tokens = res\n",
    "    else:\n",
    "        tokens = word_tokenize(replacement)\n",
    "    \n",
    "    for i, t in enumerate(tokens):\n",
    "        if ',' in t:\n",
    "            tokens = tokens[:i] + [c for c in t] + tokens[i + 1:]\n",
    "            \n",
    "    return tokens"
   ]
  },
  {
   "cell_type": "code",
   "execution_count": 13,
   "id": "e16929fa",
   "metadata": {
    "scrolled": true
   },
   "outputs": [],
   "source": [
    "# Tags for the replacement\n",
    "def get_tags(replacement):\n",
    "    ner_tags = []\n",
    "    tokens = get_tokens(replacement)\n",
    "    \n",
    "    for i in range(len(tokens)):\n",
    "        if i == 0:\n",
    "            ner_tags.append('B-Chemical')\n",
    "        else:\n",
    "            ner_tags.append('I-Chemical')\n",
    "\n",
    "    return ner_tags"
   ]
  },
  {
   "cell_type": "code",
   "execution_count": 14,
   "id": "2bfe2053",
   "metadata": {
    "scrolled": true
   },
   "outputs": [],
   "source": [
    "# Spans for the replacement\n",
    "def get_spans(replacement):\n",
    "    spans = []\n",
    "    span_0 = 0\n",
    "    tokens = get_tokens(replacement)\n",
    "    \n",
    "    for t in tokens:\n",
    "        if t == '-':\n",
    "            spans += [[span_0 - 1, span_0]]\n",
    "        elif t == ',':\n",
    "            spans += [[span_0 - 1, span_0]]\n",
    "        else:\n",
    "            spans += [[span_0, span_0 + len(t)]]\n",
    "            span_0 = span_0 + len(t) + 1\n",
    "\n",
    "    return spans"
   ]
  },
  {
   "cell_type": "code",
   "execution_count": 27,
   "id": "5667673d",
   "metadata": {
    "scrolled": true
   },
   "outputs": [],
   "source": [
    "# change acro for either 4 or 3 letter acronyms\n",
    "\n",
    "def get_replacement(records):\n",
    "    replacement = []\n",
    "    num_chem = records['ner_tags'].count('B-Chemical')\n",
    "    for i in range(num_chem):\n",
    "        replacement.append(acro_3[random.randrange(0, n)])  \n",
    "    return replacement"
   ]
  },
  {
   "cell_type": "code",
   "execution_count": 29,
   "id": "1efe7a5c",
   "metadata": {
    "scrolled": true
   },
   "outputs": [
    {
     "data": {
      "text/plain": [
       "['ribosomal RNA apurinic site specific lyase', 'RPR 113228', 'WLBU2 peptide']"
      ]
     },
     "execution_count": 29,
     "metadata": {},
     "output_type": "execute_result"
    },
    {
     "data": {
      "text/plain": [
       "['ribosomal', 'RNA', 'apurinic', 'site', 'specific', 'lyase']"
      ]
     },
     "execution_count": 29,
     "metadata": {},
     "output_type": "execute_result"
    },
    {
     "data": {
      "text/plain": [
       "['B-Chemical',\n",
       " 'I-Chemical',\n",
       " 'I-Chemical',\n",
       " 'I-Chemical',\n",
       " 'I-Chemical',\n",
       " 'I-Chemical']"
      ]
     },
     "execution_count": 29,
     "metadata": {},
     "output_type": "execute_result"
    },
    {
     "data": {
      "text/plain": [
       "[[0, 9], [10, 13], [14, 22], [23, 27], [28, 36], [37, 42]]"
      ]
     },
     "execution_count": 29,
     "metadata": {},
     "output_type": "execute_result"
    }
   ],
   "source": [
    "# a test case to check the three functions\n",
    "n = len(acro_3)\n",
    "\n",
    "for r in records[:1]:\n",
    "    num_chem = r['ner_tags'].count('B-Chemical')\n",
    "    replacement = []\n",
    "    for i in range(num_chem):\n",
    "        replacement.append(acro_3[random.randrange(0, n)])\n",
    "    \n",
    "replacement\n",
    "get_tokens(replacement[0])\n",
    "get_tags(replacement[0])\n",
    "get_spans(replacement[0])"
   ]
  },
  {
   "cell_type": "code",
   "execution_count": 17,
   "id": "222a0f7d",
   "metadata": {
    "scrolled": true
   },
   "outputs": [
    {
     "data": {
      "text/plain": [
       "[[[0, 4], [5, 13]], [[0, 8]], [[0, 4], [4, 5], [5, 7], [8, 16]]]"
      ]
     },
     "execution_count": 17,
     "metadata": {},
     "output_type": "execute_result"
    }
   ],
   "source": [
    "[get_spans(r) for r in replacement]"
   ]
  },
  {
   "cell_type": "code",
   "execution_count": 18,
   "id": "253a5d9d",
   "metadata": {
    "scrolled": true
   },
   "outputs": [],
   "source": [
    "def old_tag_index(r):\n",
    "    old_tag_index = []\n",
    "    for i, e in enumerate(r['ner_tags']):\n",
    "        if e == 'B-Chemical':\n",
    "            old_tag_index.append(i)\n",
    "            \n",
    "    return old_tag_index"
   ]
  },
  {
   "cell_type": "code",
   "execution_count": 19,
   "id": "75b3bbdb",
   "metadata": {
    "scrolled": true
   },
   "outputs": [],
   "source": [
    "def old_tag_index_dict(r):\n",
    "    old_tag_index_dict = {}\n",
    "    for i, e in enumerate(r['ner_tags']):\n",
    "        if e == 'B-Chemical':\n",
    "            old_tag_index_dict[i] = 1\n",
    "            temp_i = i\n",
    "        if e == 'I-Chemical':\n",
    "            old_tag_index_dict[temp_i] += 1\n",
    "            \n",
    "    return old_tag_index_dict"
   ]
  },
  {
   "cell_type": "code",
   "execution_count": 20,
   "id": "992f474b",
   "metadata": {
    "scrolled": true
   },
   "outputs": [],
   "source": [
    "# get the updated tags after inserting the replacement\n",
    "r = records[0]\n",
    "\n",
    "def updated_tags(r, replacement):\n",
    "    old_tag_index_0 = old_tag_index(r)\n",
    "    old_tag_index_dict_0 = old_tag_index_dict(r)\n",
    "#     for i, e in enumerate(r['ner_tags']):\n",
    "#         if e == 'B-Chemical':\n",
    "#             old_tag_index.append(i)\n",
    "#             old_tag_index_dict[i] = 1\n",
    "#             temp_i = i\n",
    "#         if e == 'I-Chemical':\n",
    "#             old_tag_index_dict[temp_i] += 1\n",
    "        \n",
    "    new_tags = []\n",
    "    for i in range(len(replacement)):\n",
    "        new_tags.append(get_tags(replacement[i]))\n",
    "\n",
    "    start = 0\n",
    "    updated_tags = []\n",
    "    for i, re in enumerate(replacement):\n",
    "        temp_tags = r['ner_tags'][start : old_tag_index_0[i]]\n",
    "        temp_tags.extend(new_tags[i])\n",
    "        updated_tags.extend(temp_tags)\n",
    "        start = old_tag_index_0[i] + 1\n",
    "\n",
    "        # when there are I-Chemical，start is moved to the next ‘O’\n",
    "        # if there is no 'O' after all the I-Chemical\n",
    "        while start < len(r['ner_tags']) and r['ner_tags'][start] == 'I-Chemical':\n",
    "            start += 1\n",
    "\n",
    "    # if there are 'O' left, add them on\n",
    "    if start == len(r['ner_tags']):\n",
    "        return updated_tags\n",
    "    if r['ner_tags'][start]:\n",
    "        updated_tags.extend(r['ner_tags'][start:])\n",
    "\n",
    "    return updated_tags"
   ]
  },
  {
   "cell_type": "code",
   "execution_count": 21,
   "id": "e2ae7e58",
   "metadata": {
    "scrolled": true
   },
   "outputs": [
    {
     "data": {
      "text/plain": [
       "['PSORI-CM01', 'Tris-borate-EDTA buffer']"
      ]
     },
     "execution_count": 21,
     "metadata": {},
     "output_type": "execute_result"
    }
   ],
   "source": [
    "replacement_760 = get_replacement(records[760])\n",
    "replacement_760\n",
    "# updated_tags(records[760], replacement_760)"
   ]
  },
  {
   "cell_type": "code",
   "execution_count": 22,
   "id": "7e8948f2",
   "metadata": {
    "scrolled": true
   },
   "outputs": [
    {
     "data": {
      "text/plain": [
       "['O',\n",
       " 'O',\n",
       " 'O',\n",
       " 'O',\n",
       " 'O',\n",
       " 'B-Chemical',\n",
       " 'I-Chemical',\n",
       " 'I-Chemical',\n",
       " 'O',\n",
       " 'B-Chemical',\n",
       " 'I-Chemical',\n",
       " 'I-Chemical',\n",
       " 'I-Chemical',\n",
       " 'I-Chemical',\n",
       " 'I-Chemical']"
      ]
     },
     "execution_count": 22,
     "metadata": {},
     "output_type": "execute_result"
    }
   ],
   "source": [
    "updated_tags(records[760], replacement_760)"
   ]
  },
  {
   "cell_type": "code",
   "execution_count": 18,
   "id": "b3858379",
   "metadata": {
    "scrolled": false
   },
   "outputs": [],
   "source": [
    "# # test case for the updated tags\n",
    "# r['ner_tags']\n",
    "# updated_tags(r, replacement)\n",
    "# len(updated_tags(r, replacement))"
   ]
  },
  {
   "cell_type": "code",
   "execution_count": 23,
   "id": "450a1c26",
   "metadata": {
    "scrolled": true
   },
   "outputs": [],
   "source": [
    "# update the tokens\n",
    "def updated_tokens(r, replacement):\n",
    "    new_tokens = []\n",
    "\n",
    "    for i in range(len(replacement)):\n",
    "        new_tokens.append(get_tokens(replacement[i]))\n",
    "\n",
    "    start = 0\n",
    "    updated_tokens = []\n",
    "\n",
    "    for i, re in enumerate(replacement):\n",
    "        end = old_tag_index(r)[i]\n",
    "        temp_tokens = r['tokens'][start: end]\n",
    "        temp_tokens.extend(new_tokens[i])\n",
    "\n",
    "        updated_tokens.extend(temp_tokens)\n",
    "        start = end + 1\n",
    "        \n",
    "        while start < len(r['ner_tags']) and r['ner_tags'][start] == 'I-Chemical':\n",
    "            start += 1\n",
    "\n",
    "    # If there are ‘O', add the corresponding tokens\n",
    "    if start == len(r['ner_tags']):\n",
    "        return updated_tokens\n",
    "    if r['tokens'][start]:\n",
    "        updated_tokens.extend(r['tokens'][start:])\n",
    "\n",
    "    return updated_tokens"
   ]
  },
  {
   "cell_type": "code",
   "execution_count": 24,
   "id": "c16bc6c8",
   "metadata": {
    "scrolled": true
   },
   "outputs": [
    {
     "data": {
      "text/plain": [
       "['CHIR98023', 'SLUPP-225']"
      ]
     },
     "execution_count": 24,
     "metadata": {},
     "output_type": "execute_result"
    }
   ],
   "source": [
    "replacement_760 = get_replacement(records[760])\n",
    "replacement_760"
   ]
  },
  {
   "cell_type": "code",
   "execution_count": 25,
   "id": "012f46ba",
   "metadata": {
    "scrolled": true
   },
   "outputs": [
    {
     "data": {
      "text/plain": [
       "['Identification',\n",
       " 'of',\n",
       " 'the',\n",
       " 'proteins',\n",
       " 'bearing',\n",
       " 'CHIR98023',\n",
       " 'branched',\n",
       " 'SLUPP',\n",
       " '-',\n",
       " '225']"
      ]
     },
     "execution_count": 25,
     "metadata": {},
     "output_type": "execute_result"
    }
   ],
   "source": [
    "updated_tokens(records[760], replacement_760)"
   ]
  },
  {
   "cell_type": "code",
   "execution_count": 22,
   "id": "02d5b0ec",
   "metadata": {
    "scrolled": false
   },
   "outputs": [],
   "source": [
    "# # a test case for updated_tokens\n",
    "# updated_tokens(r, replacement)\n",
    "# len(updated_tokens(r, replacement))"
   ]
  },
  {
   "cell_type": "markdown",
   "id": "6f6c2f69",
   "metadata": {},
   "source": [
    "#### Updating the spans (tricky)"
   ]
  },
  {
   "cell_type": "code",
   "execution_count": 23,
   "id": "e8b2c8c5",
   "metadata": {
    "scrolled": true
   },
   "outputs": [
    {
     "data": {
      "text/plain": [
       "[6, 8, 10]"
      ]
     },
     "execution_count": 23,
     "metadata": {},
     "output_type": "execute_result"
    },
    {
     "data": {
      "text/plain": [
       "{6: 1, 8: 1, 10: 1}"
      ]
     },
     "execution_count": 23,
     "metadata": {},
     "output_type": "execute_result"
    }
   ],
   "source": [
    "old_tag_index(r)\n",
    "old_tag_index_dict(r)"
   ]
  },
  {
   "cell_type": "code",
   "execution_count": 24,
   "id": "be23267c",
   "metadata": {
    "scrolled": false
   },
   "outputs": [],
   "source": [
    "# r"
   ]
  },
  {
   "cell_type": "code",
   "execution_count": 25,
   "id": "ab8b4108",
   "metadata": {
    "scrolled": true
   },
   "outputs": [
    {
     "data": {
      "text/plain": [
       "['HIPRA SARS-CoV-2 vaccine', 'VUFB 17951', 'YHHU0895']"
      ]
     },
     "execution_count": 25,
     "metadata": {},
     "output_type": "execute_result"
    }
   ],
   "source": [
    "# update the spans\n",
    "replacement\n",
    "\n",
    "def getSpans(r, replacement):\n",
    "    r_spans = r['spans']\n",
    "    r_tags = r['ner_tags']\n",
    "    old_tag_index_0 = old_tag_index(r)\n",
    "    old_tag_index_dict_0 = old_tag_index_dict(r)\n",
    "    \n",
    "    new_spans = []\n",
    "    for i in range(len(replacement)):\n",
    "        new_spans.append(get_spans(replacement[i]))\n",
    "\n",
    "    start = 0\n",
    "    for i, re in enumerate(replacement):\n",
    "        updated_spans = []\n",
    "        len_replacement = len(new_spans[i])\n",
    "        end = old_tag_index_0[i]\n",
    "        \n",
    "        if i == 0:\n",
    "            temp_spans = r_spans[:end]\n",
    "            for j in range(len_replacement):\n",
    "                ss = np.add([r_spans[end][0], r_spans[end][0]], new_spans[i][j])\n",
    "                updated_spans.append(ss.tolist())\n",
    "        else:\n",
    "            # now, use the old_tag_index_dict to find the next chemical span and update with the value in the temp_spans\n",
    "            start = old_tag_index_0[i]\n",
    "            space = r_spans[start][0] - r_spans[start - 1][1]\n",
    "\n",
    "            # update the spans with the new_spans, space and temp_spans[-1][1] = 3560\n",
    "            for j in range(len_replacement):\n",
    "                ss = np.add([temp_spans[-1][1] + space, temp_spans[-1][1] + space], new_spans[i][j])\n",
    "                updated_spans.append(ss.tolist())\n",
    "\n",
    "        # add the new spans (of tokens) to temp_spans\n",
    "        temp_spans.extend(updated_spans)\n",
    "\n",
    "        # extend the spans with 'O' entities if there are 'O''s behind，old spans: [3578, 3579] --> updated_o_spans\n",
    "        # use old_tag_index_dict to get rid of the old entity, it tells you the length of the old chemical entity\n",
    "        o_start = old_tag_index_0[i] + old_tag_index_dict_0[old_tag_index_0[i]]\n",
    "        if i + 1 < len(old_tag_index_0):\n",
    "            o_end = old_tag_index_0[i + 1]\n",
    "        else:\n",
    "            o_end = len(r_spans)\n",
    "\n",
    "        o_span = r_spans[o_start: o_end]\n",
    "        # update the o_span and extend the temp_spans\n",
    "#         print('o_start: ', o_start)\n",
    "        if o_start == len(r['ner_tags']):\n",
    "            return temp_spans\n",
    "        else:\n",
    "            space = r_spans[o_start][0] - r_spans[o_start - 1][1]\n",
    "            updated_o_spans = []\n",
    "            diff = temp_spans[-1][1] - r_spans[o_start - 1][1]\n",
    "\n",
    "            for k in range(o_start, o_end):\n",
    "                ss = np.add(r_spans[k], [diff, diff])\n",
    "                updated_o_spans.append(list(ss.tolist()))\n",
    "\n",
    "            if updated_o_spans:\n",
    "                temp_spans.extend(updated_o_spans)\n",
    "\n",
    "#     print('========= result ==========')\n",
    "    return temp_spans"
   ]
  },
  {
   "cell_type": "code",
   "execution_count": 28,
   "id": "c7b26718",
   "metadata": {
    "scrolled": true
   },
   "outputs": [],
   "source": [
    "# getSpans(records[760], replacement_760)"
   ]
  },
  {
   "cell_type": "code",
   "execution_count": 29,
   "id": "cbc14a69",
   "metadata": {
    "scrolled": false
   },
   "outputs": [],
   "source": [
    "# getSpans(r, replacement)\n",
    "# len(getSpans(r, replacement))"
   ]
  },
  {
   "cell_type": "code",
   "execution_count": 30,
   "id": "7bb3dfc1",
   "metadata": {
    "scrolled": false
   },
   "outputs": [],
   "source": [
    "# form a dict of r\n",
    "# r\n",
    "# new_r = dict()\n",
    "# new_r['ner_tags'] = updated_tags(r, replacement)\n",
    "# new_r['tokens'] = updated_tokens(r, replacement)\n",
    "# new_r['spans'] = getSpans(r, replacement)\n",
    "# new_r"
   ]
  },
  {
   "cell_type": "code",
   "execution_count": 30,
   "id": "1ae5d039",
   "metadata": {
    "scrolled": true
   },
   "outputs": [],
   "source": [
    "# new_replacement = ['Carbaryl', 'Naphthalene', 'Chlorpyrifos']"
   ]
  },
  {
   "cell_type": "code",
   "execution_count": 31,
   "id": "da48ff77",
   "metadata": {
    "scrolled": true
   },
   "outputs": [],
   "source": [
    "# getSpans(new_r, new_replacement)"
   ]
  },
  {
   "cell_type": "code",
   "execution_count": 32,
   "id": "232ac14d",
   "metadata": {
    "scrolled": true
   },
   "outputs": [],
   "source": [
    "# getSpans(new_r, new_replacement) == r['spans']"
   ]
  },
  {
   "cell_type": "code",
   "execution_count": 33,
   "id": "ad52594e",
   "metadata": {
    "scrolled": true
   },
   "outputs": [],
   "source": [
    "def new_records(r, replacement):\n",
    "    new_r = dict()\n",
    "    new_r['ner_tags'] = updated_tags(r, replacement)\n",
    "    new_r['tokens'] = updated_tokens(r, replacement)\n",
    "    new_r['spans'] = getSpans(r, replacement)\n",
    "    return new_r"
   ]
  },
  {
   "cell_type": "code",
   "execution_count": 34,
   "id": "a0bd00b3",
   "metadata": {
    "scrolled": true
   },
   "outputs": [],
   "source": [
    "# extract the original chemical entities using ner_tags, tokens, and spans\n",
    "# get the index of 'B-Chemical' and following 'I-Chemical' and their spans, put them together as the replacement\n",
    "\n",
    "def original_chemical(r):\n",
    "    tokens = []\n",
    "    old_index = old_tag_index(r)\n",
    "    old_index_dict = old_tag_index_dict(r)\n",
    "    \n",
    "    for i in old_index:\n",
    "        temp = []\n",
    "        temp.append(r['tokens'][i])\n",
    "        j = i + 1\n",
    "        n = 1\n",
    "        while n < old_index_dict[i]:\n",
    "            space = r['spans'][j][0] - r['spans'][j - 1][1]\n",
    "            next_tag = r['ner_tags'][j]\n",
    "            if next_tag == 'I-Chemical':\n",
    "                if space == 1:\n",
    "                    temp[-1] = temp[-1] + ' ' + r['tokens'][j]\n",
    "                if space == 0:\n",
    "                    temp[-1] = temp[-1] + r['tokens'][j]\n",
    "                j += 1\n",
    "                n += 1\n",
    "        tokens.extend(temp)\n",
    "        \n",
    "    return tokens"
   ]
  },
  {
   "cell_type": "code",
   "execution_count": 35,
   "id": "46751015",
   "metadata": {
    "scrolled": true
   },
   "outputs": [],
   "source": [
    "r = records[0]"
   ]
  },
  {
   "cell_type": "code",
   "execution_count": 36,
   "id": "dc5d9f3f",
   "metadata": {
    "scrolled": true
   },
   "outputs": [
    {
     "data": {
      "text/plain": [
       "['Carbaryl', 'Naphthalene', 'Chlorpyrifos']"
      ]
     },
     "execution_count": 36,
     "metadata": {},
     "output_type": "execute_result"
    }
   ],
   "source": [
    "original_chemical(r)"
   ]
  },
  {
   "cell_type": "code",
   "execution_count": 37,
   "id": "a87f2931",
   "metadata": {
    "scrolled": true
   },
   "outputs": [],
   "source": [
    "# r_1 = {'ner_tags': ['O', 'O', 'O', 'O', 'O', 'O', 'B-Chemical', 'I-Chemical', 'I-Chemical', 'O', 'B-Chemical', 'I-Chemical', 'O', 'B-Chemical', 'I-Chemical', 'I-Chemical', 'I-Chemical', 'I-Chemical', 'I-Chemical', 'I-Chemical', 'O', 'O', 'O', 'O'], 'tokens': ['The', 'Relationship', 'of', 'Urinary', 'Metabolites', 'of', 'Gd', '-', 'TEMDO', '/', 'TOPRO', '5', 'and', 'DNA', 'excision', 'repair', 'protein', 'ERCC', '-', '5', 'with', 'Human', 'Semen', 'Quality'], 'spans': [[0, 3], [4, 16], [17, 19], [20, 27], [28, 39], [40, 42], [43, 45], [45, 46], [46, 51], [51, 52], [52, 57], [58, 59], [60, 63], [64, 67], [68, 76], [77, 83], [84, 91], [92, 96], [96, 97], [97, 98], [99, 103], [104, 109], [110, 115], [116, 123]]}"
   ]
  },
  {
   "cell_type": "code",
   "execution_count": 38,
   "id": "12e062a5",
   "metadata": {
    "scrolled": true
   },
   "outputs": [],
   "source": [
    "# original_chemical(r_1)"
   ]
  },
  {
   "cell_type": "markdown",
   "id": "3e84e8d9",
   "metadata": {},
   "source": [
    "### Round tripping tests on spans"
   ]
  },
  {
   "cell_type": "code",
   "execution_count": 39,
   "id": "c2316107",
   "metadata": {
    "scrolled": true
   },
   "outputs": [],
   "source": [
    "# replacement_list = get_replacement(records)"
   ]
  },
  {
   "cell_type": "code",
   "execution_count": 39,
   "id": "43f77f54",
   "metadata": {
    "scrolled": true
   },
   "outputs": [
    {
     "name": "stdout",
     "output_type": "stream",
     "text": [
      "Matched 5536\n",
      "Not matched:  677\n",
      "Number of records that contain chemical entities 6213\n"
     ]
    }
   ],
   "source": [
    "count = 0\n",
    "total = 0\n",
    "error_case = []\n",
    "for i, r in enumerate(records[7061:]):\n",
    "#     print(r)\n",
    "    if 'B-Chemical' in r['ner_tags']:\n",
    "        total += 1\n",
    "        replacement = get_replacement(r)\n",
    "#         print(replacement)\n",
    "        new_r = new_records(r, replacement)\n",
    "#         print(new_r)\n",
    "        original_tokens = original_chemical(r)\n",
    "#         print('original tokens', original_tokens)\n",
    "#         getSpans(new_r, original_tokens)\n",
    "        \n",
    "        if getSpans(new_r, original_tokens) == r['spans']:\n",
    "            count += 1\n",
    "        else:\n",
    "            error_case.append(i)\n",
    "            continue\n",
    "            \n",
    "print('Matched', count)\n",
    "print('Not matched: ', total - count)\n",
    "print('Number of records that contain chemical entities', total)"
   ]
  },
  {
   "cell_type": "code",
   "execution_count": 105,
   "id": "82554de2",
   "metadata": {
    "scrolled": true
   },
   "outputs": [
    {
     "data": {
      "text/plain": [
       "18910"
      ]
     },
     "execution_count": 105,
     "metadata": {},
     "output_type": "execute_result"
    }
   ],
   "source": [
    "len(records)"
   ]
  },
  {
   "cell_type": "code",
   "execution_count": 42,
   "id": "db581ad2",
   "metadata": {
    "scrolled": true
   },
   "outputs": [],
   "source": [
    "def roundtripping(records):\n",
    "    count = 0\n",
    "    total = 0\n",
    "    error_case = []\n",
    "    correct_case = []\n",
    "    for i, r in enumerate(records):\n",
    "        if 'B-Chemical' in r['ner_tags']:\n",
    "            total += 1\n",
    "            replacement = get_replacement(r)\n",
    "            new_r = new_records(r, replacement)\n",
    "            original_tokens = original_chemical(r)\n",
    "#             print('replacement:', replacement)\n",
    "#             print('new_r: ', new_r)\n",
    "#             print('original_tokens: ', original_tokens)\n",
    "#             print('len original spans: ', len(r['spans']))\n",
    "#             print('reversed: ', getSpans(new_r, original_tokens))\n",
    "#             print('len reversed: ', len(getSpans(new_r, original_tokens)))\n",
    "            \n",
    "            if getSpans(new_r, original_tokens) == r['spans']:\n",
    "                count += 1\n",
    "                correct_case.append(i)\n",
    "            else:\n",
    "                error_case.append(i)\n",
    "                continue\n",
    "    \n",
    "    print('Matched', count)\n",
    "    print('Not matched: ', total - count)\n",
    "    print('Number of records that contain chemical entities', total)\n",
    "    \n",
    "    return correct_case\n",
    "    "
   ]
  },
  {
   "cell_type": "code",
   "execution_count": 43,
   "id": "adcc4d51",
   "metadata": {
    "scrolled": true
   },
   "outputs": [
    {
     "name": "stdout",
     "output_type": "stream",
     "text": [
      "Matched 2924\n",
      "Not matched:  260\n",
      "Number of records that contain chemical entities 3184\n"
     ]
    }
   ],
   "source": [
    "correct_0 = roundtripping(records[:7060])"
   ]
  },
  {
   "cell_type": "code",
   "execution_count": 44,
   "id": "2cb5ea69",
   "metadata": {
    "scrolled": true
   },
   "outputs": [
    {
     "name": "stdout",
     "output_type": "stream",
     "text": [
      "Matched 5536\n",
      "Not matched:  677\n",
      "Number of records that contain chemical entities 6213\n"
     ]
    }
   ],
   "source": [
    "correct_1 = roundtripping(records[7061:])"
   ]
  },
  {
   "cell_type": "code",
   "execution_count": null,
   "id": "650a5728",
   "metadata": {
    "scrolled": true
   },
   "outputs": [],
   "source": [
    "correct_1"
   ]
  },
  {
   "cell_type": "code",
   "execution_count": null,
   "id": "a982fb68",
   "metadata": {
    "scrolled": true
   },
   "outputs": [],
   "source": [
    "records[7061]"
   ]
  },
  {
   "cell_type": "code",
   "execution_count": 89,
   "id": "d683bd47",
   "metadata": {
    "scrolled": true
   },
   "outputs": [
    {
     "data": {
      "text/plain": [
       "7057"
      ]
     },
     "execution_count": 89,
     "metadata": {},
     "output_type": "execute_result"
    },
    {
     "data": {
      "text/plain": [
       "0"
      ]
     },
     "execution_count": 89,
     "metadata": {},
     "output_type": "execute_result"
    }
   ],
   "source": [
    "correct_0[-1]\n",
    "correct_1[0]"
   ]
  },
  {
   "cell_type": "code",
   "execution_count": 54,
   "id": "9f6c0b7e",
   "metadata": {
    "scrolled": true
   },
   "outputs": [],
   "source": [
    "correct_2 = [i + 7061 for i in correct_1]"
   ]
  },
  {
   "cell_type": "markdown",
   "id": "f6ca5e12",
   "metadata": {},
   "source": [
    "### Get the correct cases ready for training"
   ]
  },
  {
   "cell_type": "code",
   "execution_count": null,
   "id": "b2579924",
   "metadata": {
    "scrolled": true
   },
   "outputs": [],
   "source": [
    "records[-1]"
   ]
  },
  {
   "cell_type": "code",
   "execution_count": 40,
   "id": "8ec83d1f",
   "metadata": {
    "scrolled": true
   },
   "outputs": [],
   "source": [
    "# use the index to get the original records and convert to new ones\n",
    "\n",
    "# ner_tags = []\n",
    "# tokens = []\n",
    "# spans = []\n",
    "# add_records = []\n",
    "\n",
    "def new_add_records(correct_i, id_0, doc_id):\n",
    "    add_records = []\n",
    "    for i in correct_i:\n",
    "        record = records[i]\n",
    "        temp_d = {}\n",
    "        temp_d['id'] = id_0\n",
    "        temp_d['document_id'] = doc_id\n",
    "        replacement = get_replacement(record)\n",
    "        ner_tags = updated_tags(record, replacement)\n",
    "        tokens = updated_tokens(record, replacement)\n",
    "        temp_d['ner_tags'] = ner_tags\n",
    "        temp_d['tokens'] = tokens\n",
    "        temp_d['spans'] = getSpans(record, replacement)\n",
    "        add_records.append(temp_d)\n",
    "\n",
    "        id_0 += 1\n",
    "        doc_id += 1\n",
    "    return add_records"
   ]
  },
  {
   "cell_type": "code",
   "execution_count": 173,
   "id": "8619b5ce",
   "metadata": {
    "scrolled": true
   },
   "outputs": [],
   "source": [
    "id_0 = 18909\n",
    "doc_id = 6032168\n",
    "\n",
    "add_train_0 = new_add_records(correct_0, id_0, doc_id)"
   ]
  },
  {
   "cell_type": "code",
   "execution_count": 174,
   "id": "6126a82f",
   "metadata": {
    "scrolled": true
   },
   "outputs": [
    {
     "data": {
      "text/plain": [
       "{'id': 21832,\n",
       " 'document_id': 6035091,\n",
       " 'ner_tags': ['O',\n",
       "  'O',\n",
       "  'O',\n",
       "  'O',\n",
       "  'O',\n",
       "  'O',\n",
       "  'O',\n",
       "  'O',\n",
       "  'B-Chemical',\n",
       "  'I-Chemical',\n",
       "  'I-Chemical',\n",
       "  'I-Chemical',\n",
       "  'I-Chemical',\n",
       "  'I-Chemical',\n",
       "  'O',\n",
       "  'O',\n",
       "  'O',\n",
       "  'O',\n",
       "  'O',\n",
       "  'O',\n",
       "  'O',\n",
       "  'O',\n",
       "  'O',\n",
       "  'O',\n",
       "  'O',\n",
       "  'O',\n",
       "  'O',\n",
       "  'O',\n",
       "  'O',\n",
       "  'O',\n",
       "  'O',\n",
       "  'O',\n",
       "  'O',\n",
       "  'O',\n",
       "  'O',\n",
       "  'O',\n",
       "  'O',\n",
       "  'O',\n",
       "  'O',\n",
       "  'O',\n",
       "  'O',\n",
       "  'O',\n",
       "  'O',\n",
       "  'O',\n",
       "  'O',\n",
       "  'O',\n",
       "  'O',\n",
       "  'O',\n",
       "  'O',\n",
       "  'O',\n",
       "  'O',\n",
       "  'O',\n",
       "  'O',\n",
       "  'O'],\n",
       " 'tokens': ['Data',\n",
       "  'from',\n",
       "  'this',\n",
       "  'study',\n",
       "  'suggest',\n",
       "  'that',\n",
       "  'application',\n",
       "  'of',\n",
       "  'FL',\n",
       "  '-',\n",
       "  'BOND',\n",
       "  'S',\n",
       "  '-',\n",
       "  '1',\n",
       "  'prior',\n",
       "  'to',\n",
       "  'or',\n",
       "  'in',\n",
       "  'combination',\n",
       "  'with',\n",
       "  'disinfectants',\n",
       "  'or',\n",
       "  'antibiotics',\n",
       "  'may',\n",
       "  'allow',\n",
       "  'for',\n",
       "  'novel',\n",
       "  'and',\n",
       "  'improved',\n",
       "  'strategies',\n",
       "  'to',\n",
       "  'control',\n",
       "  'biofilms',\n",
       "  'in',\n",
       "  'industrial',\n",
       "  'as',\n",
       "  'well',\n",
       "  'as',\n",
       "  'clinical',\n",
       "  'settings',\n",
       "  ',',\n",
       "  'with',\n",
       "  'clear',\n",
       "  'benefits',\n",
       "  'such',\n",
       "  'as',\n",
       "  'reduced',\n",
       "  'ecological',\n",
       "  'impact',\n",
       "  'and',\n",
       "  'reduced',\n",
       "  'treatment',\n",
       "  'costs',\n",
       "  '.'],\n",
       " 'spans': [[33455, 33459],\n",
       "  [33460, 33464],\n",
       "  [33465, 33469],\n",
       "  [33470, 33475],\n",
       "  [33476, 33483],\n",
       "  [33484, 33488],\n",
       "  [33489, 33500],\n",
       "  [33501, 33503],\n",
       "  [33504, 33506],\n",
       "  [33506, 33507],\n",
       "  [33507, 33511],\n",
       "  [33512, 33513],\n",
       "  [33513, 33514],\n",
       "  [33514, 33515],\n",
       "  [33516, 33521],\n",
       "  [33522, 33524],\n",
       "  [33525, 33527],\n",
       "  [33528, 33530],\n",
       "  [33531, 33542],\n",
       "  [33543, 33547],\n",
       "  [33548, 33561],\n",
       "  [33562, 33564],\n",
       "  [33565, 33576],\n",
       "  [33577, 33580],\n",
       "  [33581, 33586],\n",
       "  [33587, 33590],\n",
       "  [33591, 33596],\n",
       "  [33597, 33600],\n",
       "  [33601, 33609],\n",
       "  [33610, 33620],\n",
       "  [33621, 33623],\n",
       "  [33624, 33631],\n",
       "  [33632, 33640],\n",
       "  [33641, 33643],\n",
       "  [33644, 33654],\n",
       "  [33655, 33657],\n",
       "  [33658, 33662],\n",
       "  [33663, 33665],\n",
       "  [33666, 33674],\n",
       "  [33675, 33683],\n",
       "  [33683, 33684],\n",
       "  [33685, 33689],\n",
       "  [33690, 33695],\n",
       "  [33696, 33704],\n",
       "  [33705, 33709],\n",
       "  [33710, 33712],\n",
       "  [33713, 33720],\n",
       "  [33721, 33731],\n",
       "  [33732, 33738],\n",
       "  [33739, 33742],\n",
       "  [33743, 33750],\n",
       "  [33751, 33760],\n",
       "  [33761, 33766],\n",
       "  [33766, 33767]]}"
      ]
     },
     "execution_count": 174,
     "metadata": {},
     "output_type": "execute_result"
    }
   ],
   "source": [
    "add_train_0[-1]"
   ]
  },
  {
   "cell_type": "code",
   "execution_count": 175,
   "id": "49b13554",
   "metadata": {
    "scrolled": true
   },
   "outputs": [
    {
     "data": {
      "text/plain": [
       "2924"
      ]
     },
     "execution_count": 175,
     "metadata": {},
     "output_type": "execute_result"
    }
   ],
   "source": [
    "len(add_train_0)"
   ]
  },
  {
   "cell_type": "code",
   "execution_count": 176,
   "id": "1daf225e",
   "metadata": {
    "scrolled": true
   },
   "outputs": [],
   "source": [
    "id_1 = 21833\n",
    "doc_id_1 = 6035092\n",
    "add_train_1 = new_add_records(correct_2, id_1, doc_id_1)"
   ]
  },
  {
   "cell_type": "code",
   "execution_count": 177,
   "id": "65ebf328",
   "metadata": {
    "scrolled": true
   },
   "outputs": [
    {
     "data": {
      "text/plain": [
       "5536"
      ]
     },
     "execution_count": 177,
     "metadata": {},
     "output_type": "execute_result"
    }
   ],
   "source": [
    "len(add_train_1)"
   ]
  },
  {
   "cell_type": "code",
   "execution_count": 178,
   "id": "63238d17",
   "metadata": {
    "scrolled": true
   },
   "outputs": [
    {
     "data": {
      "text/plain": [
       "8460"
      ]
     },
     "execution_count": 178,
     "metadata": {},
     "output_type": "execute_result"
    }
   ],
   "source": [
    "# get them into json format\n",
    "add_train_1105 = add_train_0 + add_train_1\n",
    "len(add_train_1105)"
   ]
  },
  {
   "cell_type": "code",
   "execution_count": null,
   "id": "05bcd4ad",
   "metadata": {
    "scrolled": false
   },
   "outputs": [],
   "source": [
    "with open('add_train_1105.json', 'w') as fout:\n",
    "    for d in add_train_1105:\n",
    "        fout.write(json.dumps(d))\n",
    "        fout.write('\\n')"
   ]
  },
  {
   "cell_type": "code",
   "execution_count": 59,
   "id": "9992d3e0",
   "metadata": {
    "scrolled": true
   },
   "outputs": [
    {
     "data": {
      "text/plain": [
       "4230"
      ]
     },
     "execution_count": 59,
     "metadata": {},
     "output_type": "execute_result"
    }
   ],
   "source": [
    "# get 4230 records - 1108\n",
    "id_0 = 18909\n",
    "doc_id = 6032168\n",
    "add_train_2 = new_add_records(correct_0, id_0, doc_id)\n",
    "\n",
    "id_1 = 21833\n",
    "doc_id_1 = 6035092\n",
    "add_train_3 = new_add_records(correct_2[:1306], id_1, doc_id_1)\n",
    "\n",
    "add_train_1108 = add_train_2 + add_train_3\n",
    "len(add_train_1108)"
   ]
  },
  {
   "cell_type": "code",
   "execution_count": null,
   "id": "9413a7ab",
   "metadata": {
    "scrolled": true
   },
   "outputs": [],
   "source": [
    "with open('add_train_1108.json', 'w') as fout:\n",
    "    for d in add_train_1108:\n",
    "        fout.write(json.dumps(d))\n",
    "        fout.write('\\n')"
   ]
  },
  {
   "cell_type": "code",
   "execution_count": null,
   "id": "6d520266",
   "metadata": {
    "scrolled": true
   },
   "outputs": [],
   "source": []
  },
  {
   "cell_type": "code",
   "execution_count": 62,
   "id": "1ea5e7f5",
   "metadata": {
    "scrolled": true
   },
   "outputs": [
    {
     "data": {
      "text/plain": [
       "16920"
      ]
     },
     "execution_count": 62,
     "metadata": {},
     "output_type": "execute_result"
    }
   ],
   "source": [
    "# get 16920 records - 1108\n",
    "id_0 = 18909\n",
    "doc_id = 6032168\n",
    "add_train_4 = new_add_records(correct_0, id_0, doc_id)\n",
    "\n",
    "id_1 = 21833\n",
    "doc_id_1 = 6035092\n",
    "add_train_5 = new_add_records(correct_2, id_1, doc_id_1)\n",
    "\n",
    "id_2 = 27369\n",
    "doc_id_2 = 6040628\n",
    "add_train_6 = new_add_records(correct_0, id_2, doc_id_2)\n",
    "\n",
    "id_3 = 30293\n",
    "doc_id_3 = 6043552\n",
    "add_train_7 = new_add_records(correct_2, id_3, doc_id_3)\n",
    "\n",
    "\n",
    "add_train_1108_d = add_train_4 + add_train_5 + add_train_6 + add_train_7\n",
    "len(add_train_1108_d)"
   ]
  },
  {
   "cell_type": "code",
   "execution_count": null,
   "id": "78b04949",
   "metadata": {
    "scrolled": true
   },
   "outputs": [],
   "source": [
    "with open('add_train_1108_d.json', 'w') as fout:\n",
    "    for d in add_train_1108_d:\n",
    "        fout.write(json.dumps(d))\n",
    "        fout.write('\\n')"
   ]
  },
  {
   "cell_type": "code",
   "execution_count": 68,
   "id": "bcdb630e",
   "metadata": {
    "scrolled": true
   },
   "outputs": [],
   "source": [
    "def new_add_records_doc(correct_i, id_0):\n",
    "    add_records = []\n",
    "    for i in correct_i:\n",
    "        record = records[i]\n",
    "        temp_d = {}\n",
    "        temp_d['id'] = id_0\n",
    "        temp_d['document_id'] = str(int(record['document_id']) - 1253656 + 6032168)\n",
    "        replacement = get_replacement(record)\n",
    "        ner_tags = updated_tags(record, replacement)\n",
    "        tokens = updated_tokens(record, replacement)\n",
    "        temp_d['ner_tags'] = ner_tags\n",
    "        temp_d['tokens'] = tokens\n",
    "        temp_d['spans'] = getSpans(record, replacement)\n",
    "        add_records.append(temp_d)\n",
    "\n",
    "        id_0 += 1\n",
    "    return add_records"
   ]
  },
  {
   "cell_type": "code",
   "execution_count": 74,
   "id": "7ec8ba4d",
   "metadata": {
    "scrolled": true
   },
   "outputs": [],
   "source": [
    "### fix the document_id\n",
    "# get 4230 records - 1108\n",
    "id_4 = 18909\n",
    "add_train_docid_0 = new_add_records_doc(correct_0, id_4)\n",
    "\n",
    "id_5 = 21833\n",
    "add_train_docid_1 = new_add_records_doc(correct_2[:1306], id_5)\n",
    "\n",
    "add_train_docid = add_train_docid + add_train_docid_1"
   ]
  },
  {
   "cell_type": "code",
   "execution_count": 75,
   "id": "7f7eaf8a",
   "metadata": {
    "scrolled": true
   },
   "outputs": [
    {
     "data": {
      "text/plain": [
       "4230"
      ]
     },
     "execution_count": 75,
     "metadata": {},
     "output_type": "execute_result"
    }
   ],
   "source": [
    "len(add_train_docid)"
   ]
  },
  {
   "cell_type": "code",
   "execution_count": null,
   "id": "afe8368f",
   "metadata": {
    "scrolled": true
   },
   "outputs": [],
   "source": [
    "with open('add_train_1109.json', 'w') as fout:\n",
    "    for d in add_train_docid:\n",
    "        fout.write(json.dumps(d))\n",
    "        fout.write('\\n')"
   ]
  },
  {
   "cell_type": "markdown",
   "id": "1d33ba89",
   "metadata": {
    "scrolled": true
   },
   "source": [
    "### Produce addition training data with 3 letter acronyms"
   ]
  },
  {
   "cell_type": "code",
   "execution_count": 26,
   "id": "94362a48",
   "metadata": {
    "scrolled": true
   },
   "outputs": [
    {
     "data": {
      "text/plain": [
       "['ICM0301B',\n",
       " 'JBIR-130',\n",
       " 'JBIR-131',\n",
       " 'JBIR-132',\n",
       " 'CMESA-sepharose',\n",
       " 'MON 0856',\n",
       " 'MDL 73975',\n",
       " 'beta-lactamase IRT-3',\n",
       " 'BAL 19403',\n",
       " 'IMAP protocol',\n",
       " 'EXP 631',\n",
       " 'HEOM',\n",
       " '6-amino-NAD',\n",
       " 'FITC-tyramide',\n",
       " 'DONS',\n",
       " 'GEA 968',\n",
       " 'NTE 122',\n",
       " 'alpha-conotoxin MII',\n",
       " \"poly 2'-azido-2'-deoxyAMP\",\n",
       " 'Fuji VII',\n",
       " 'EUK-172',\n",
       " 'TAC 101',\n",
       " 'Amberlite XAD-2 resin',\n",
       " 'herpes simplex virus type 2 protein ICSP 11-12',\n",
       " 'cinnamoyl-LIGRLO-amide',\n",
       " 'UDPglucose-glycoprotein glucose-1-phosphotransferase',\n",
       " 'UDPgalactose - UDP-N-acetylglucosamine galactosephosphotransferase',\n",
       " 'ICR 340',\n",
       " '2-chloro-ATP',\n",
       " 'FCE 27677',\n",
       " 'cyclo-CTP',\n",
       " 'heliogen blue SBL',\n",
       " 'GKPV peptide',\n",
       " 'MTP 1403',\n",
       " 'glycoprotein BCA 225',\n",
       " 'dTDP-L-dihydrostreptose-streptidine-6-phosphate dihydrostreptosyltransferase',\n",
       " 'BODIPY-PC',\n",
       " 'PEN protocol',\n",
       " 'BMP-PEI-pSLC-E7-Fc vaccine',\n",
       " 'APO 10',\n",
       " 'ITA 529',\n",
       " 'CGP 62349',\n",
       " 'GAHKNYLRFamide',\n",
       " 'CGP 64213',\n",
       " 'ONCOFID-S',\n",
       " 'NIR-mbc94',\n",
       " 'AZD3409',\n",
       " 'trisilanolisobutyl-POSS',\n",
       " 'ORF 8511',\n",
       " 'RPR 200765A',\n",
       " 'CVD 112',\n",
       " 'ROM 205',\n",
       " 'ETH 5282',\n",
       " 'DPH-L',\n",
       " 'DPH-M',\n",
       " 'EDTAC',\n",
       " 'MDL 19744A',\n",
       " 'GEA 5016',\n",
       " 'GEA 3198',\n",
       " 'MDL 19660',\n",
       " 'DWP 7055',\n",
       " 'EUK-134',\n",
       " 'DAC 5945',\n",
       " 'CLS 2210',\n",
       " 'BRL 51242',\n",
       " 'PPO 464',\n",
       " 'difructose anhydride III',\n",
       " 'cyclo-CDP',\n",
       " 'cyclo-CMP',\n",
       " 'BES',\n",
       " 'RSD992',\n",
       " \"signal recognition particle RNA 3'-adenylating enzyme\",\n",
       " '3-pyridinealdehyde-NAD',\n",
       " 'MMK2 compound',\n",
       " 'MMK3 compound',\n",
       " \"phenylalanyl-5'-AMP\",\n",
       " 'ICI 73602',\n",
       " 'MACOP-B protocol',\n",
       " 'FAUC 88',\n",
       " 'SGB 483',\n",
       " 'ILME pheromone',\n",
       " 'BCH 15046',\n",
       " 'S130K-HBGAM chimeric protein',\n",
       " 'omega-hydroxyfatty acid:NADP oxidoreductase',\n",
       " 'BRL 34778',\n",
       " 'sulfonazo III',\n",
       " 'ASI-222',\n",
       " 'USVP E-142',\n",
       " 'ABT724',\n",
       " 'beta-lactamase PSE-2',\n",
       " 'NSC 117027',\n",
       " 'ferredoxin-NAD+ reductase',\n",
       " 'prostaglandin-ICI 74205',\n",
       " 'SBS-g-VP copolymer',\n",
       " 'CEBA combination',\n",
       " 'CECA protocol',\n",
       " 'GPA 1734',\n",
       " 'PKH 2 dye',\n",
       " 'UVF2274',\n",
       " 'MLL-GAS7 fusion protein',\n",
       " 'NIAX catalyst ESN',\n",
       " 'calcium potassium ATPase',\n",
       " 'OFU 001',\n",
       " 'FLA 69',\n",
       " 'poly-THIQ',\n",
       " 'LEG-3 prodrug',\n",
       " '3-MPAM-ES',\n",
       " 'cyclic ara-CMP',\n",
       " 'HiC-COM protocol',\n",
       " 'BACOD protocol',\n",
       " 'LNH 87 protocol',\n",
       " 'HBME-1 antigen',\n",
       " 'SCH 51048',\n",
       " 'GIF-0373',\n",
       " 'GIF-0667',\n",
       " 'beta-lactamase TEM-47',\n",
       " 'ATSO',\n",
       " 'beta-lactamase OXA-16',\n",
       " 'BMS 250749',\n",
       " 'CisEBP protocol',\n",
       " 'DGM-1 conjugate',\n",
       " 'SRI 63-441',\n",
       " 'VAC protocol',\n",
       " 'DNA-spermidine',\n",
       " 'BAY-k 9320',\n",
       " 'BAY-P 8857',\n",
       " 'BANA 105',\n",
       " 'SCH 32615',\n",
       " 'NSC 629243',\n",
       " 'ICR 191-OH',\n",
       " 'ONO 4007',\n",
       " 'BMS 186318',\n",
       " 'GRENYHGCTTHWGFTLC peptide',\n",
       " 'GRN-41',\n",
       " 'RNA I',\n",
       " 'MAP4',\n",
       " 'NR3A NMDA receptor',\n",
       " 'endodeoxyribonuclease BSSHII',\n",
       " \"3'-enolpyruvyl-UMP\",\n",
       " 'TEC solution',\n",
       " 'MEN 11609',\n",
       " 'ENT-60210',\n",
       " 'IPCM',\n",
       " 'BMS 181321',\n",
       " 'CINK4',\n",
       " 'phosphatidyl-dCMP',\n",
       " 'Tinopal DMS-X',\n",
       " 'NAD transferase',\n",
       " 'FIBS',\n",
       " 'BGM 84 protocol',\n",
       " '8 alpha-O-tyrosyl-FAD',\n",
       " 'BBM-928 D',\n",
       " 'inositol NAD epimerase',\n",
       " 'Tris-borate-EDTA buffer',\n",
       " 'MDL 73669',\n",
       " 'N-alpha-DTPA-tyrosyl-N-epsilon-DTPA-lysine',\n",
       " 'SDZ 280.636',\n",
       " 'CRIT-H17 peptide',\n",
       " 'VCDP protocol',\n",
       " 'LCOMP protocol',\n",
       " 'ribonuclease HIII',\n",
       " 'VAB II protocol',\n",
       " 'CPW 399',\n",
       " 'BRL 1364',\n",
       " 'LPS rhamnosyltransferases',\n",
       " 'DNA synaptase',\n",
       " 'PNU 169884',\n",
       " 'dTDP-olivose',\n",
       " 'SNF 8906',\n",
       " 'IMET 3106',\n",
       " 'tumor-associated NADH oxidase',\n",
       " 'polyphosphate NAD-kinase',\n",
       " 'S-adenosylmethionine - tRNA ribosyltransferase-isomerase',\n",
       " 'NPH-peptide',\n",
       " 'vasectrin III',\n",
       " 'L-DOPA-glucoside',\n",
       " 'PAVI protocol',\n",
       " 'PBMF protocol',\n",
       " 'MYC 2095',\n",
       " 'formate-NADP oxidoreductase',\n",
       " 'N-formylmethionyl-tRNA hydrolase',\n",
       " 'FAD synthetase complex',\n",
       " 'IEM 1054',\n",
       " 'ADR 132',\n",
       " 'MPG peptide',\n",
       " 'factor XIIIb',\n",
       " 'CAMEO protocol',\n",
       " 'HMCAZ5',\n",
       " 'AGL 2592',\n",
       " 'JSTX spider toxin',\n",
       " 'NNM-25 nitrogen mustard conjugate',\n",
       " 'MDL 28564',\n",
       " 'SNF 8702',\n",
       " 'DEPO',\n",
       " 'RTI 130',\n",
       " 'RTI 117',\n",
       " 'API-2 nucleoside',\n",
       " 'uroporphyrin III',\n",
       " 'RPR 101511A',\n",
       " 'endodeoxyribonuclease XBAI',\n",
       " 'UDP-glucose-isoflavone 7-O-glucosyltransferase',\n",
       " 'ACFM protocol',\n",
       " 'ERRalpha estrogen-related receptor',\n",
       " 'K-11-dUTP',\n",
       " 'RIG 200',\n",
       " 'BRL 22321',\n",
       " 'armator III alloy',\n",
       " 'DNA-iomethin',\n",
       " 'BMS 806',\n",
       " '2-chloro-AMP',\n",
       " '9-dihydrobaccatin III',\n",
       " 'MDL 27266',\n",
       " 'FPL 55618',\n",
       " 'h-ULMF-8',\n",
       " 'T-DNA',\n",
       " 'TAD protocol',\n",
       " 'PROMACE protocol',\n",
       " 'PRIME protocol',\n",
       " 'carboplatin-DNA adduct',\n",
       " 'PBML protocol',\n",
       " \"2'-O-succinyl cyclic GMP\",\n",
       " 'ATP-1-aminopropan-2-ol phosphotransferase',\n",
       " 'ATP deaminase',\n",
       " 'DNA replicase',\n",
       " 'TMP nucleotidase',\n",
       " 'PNU 142731A',\n",
       " 'UDP-N-acetylgalactosamine pyrophosphatase',\n",
       " 'UDP-N-acetylglucosamine-asparagine-sequon N-acetyl- beta-D-glucosaminyltransferase',\n",
       " 'UDP-N-acetylglucosamine-pentapeptide acetylglucosaminyl transferase',\n",
       " 'UDP-N-acetylglucosamine transferase',\n",
       " 'UDPapiose-flavone apiosyltransferase',\n",
       " 'UDPgalactose polysaccharide transferase',\n",
       " 'UDP-galactose 4-O-beta-D-galactosyl-D-xylose galactosyltransferase',\n",
       " 'UDP galactose pyrophosphatase',\n",
       " 'BIM 23003',\n",
       " 'NSC 665517',\n",
       " 'acetamido-CNU',\n",
       " 'COG112 peptide',\n",
       " 'UDPglucose-poriferasterol glucosyltransferase',\n",
       " 'RWJ 68354',\n",
       " 'EMD 16795',\n",
       " 'CGP 57380',\n",
       " 'NBR-B isoenzyme',\n",
       " 'CPW 86363',\n",
       " 'TTP-gamma-benzylamidate',\n",
       " '2-chloro-ADP',\n",
       " 'N-acetylphenylalanyl-tRNA hydrolase',\n",
       " 'ARL 15849XX',\n",
       " 'UDPglucose fatty acid glucosyltransferase',\n",
       " 'UDPglucose hydrolase',\n",
       " 'UDPglucose ketone cyanohydrin-beta-D-glucosyltransferase',\n",
       " 'UDPglucose pyrophosphatase',\n",
       " 'UDPglucose-sterol glucosyltransferase',\n",
       " 'UDPxylosyltransferase',\n",
       " 'kininase III',\n",
       " 'BAM-20P',\n",
       " 'REV 6134',\n",
       " 'coproporphyrinogen III',\n",
       " 'EDTA alkylammonium salts',\n",
       " 'MIP protocol',\n",
       " 'Oregon green 488 BAPTA-1',\n",
       " 'UDP-N-acetylmuramoylalanyl-D-glutamyllysine-D-alanyl-D-alanine ligase',\n",
       " 'SCH 57790',\n",
       " 'IMP cyclohydrolase',\n",
       " 'REV 6207',\n",
       " 'protease SPC7',\n",
       " 'GDP mannose-glycopeptide mannosyltransferase',\n",
       " 'alpha-glucan UDP glucosyltransferase',\n",
       " 'DNA-aldehydes',\n",
       " 'AIPII peptide',\n",
       " 'BMS 286309',\n",
       " 'BMS 422461',\n",
       " 'TEC protocol',\n",
       " 'pyrophosphate ADP phosphotransferase',\n",
       " 'RLP 024',\n",
       " 'FTI 277',\n",
       " 'GGTI 287',\n",
       " 'ICI 181037',\n",
       " 'WAY 124466',\n",
       " 'FPL 59257',\n",
       " 'CMPsialic acid-apolipoprotein glycosyltransferase',\n",
       " 'dCTP deaminase',\n",
       " 'bilirubin UDP-xylosyltransferase',\n",
       " 'TEV protease',\n",
       " 'FLMP protocol',\n",
       " 'VUFB-12384',\n",
       " 'MEPNA 184',\n",
       " 'SYBR Green II',\n",
       " \"2'-deoxy cyclic GMP\",\n",
       " 'DST-30 thermoelastoplast',\n",
       " 'NADH-cytochrome o reductase',\n",
       " 'S-IBTM',\n",
       " 'arylazido-beta-alanyl-NADP',\n",
       " 'beta-lactamase PSE-4',\n",
       " 'DEVDase',\n",
       " 'SDZ ICT 322',\n",
       " 'FPL-52694',\n",
       " 'EXP3880',\n",
       " 'SYNSORB Pk',\n",
       " 'beta-lactamase TEM-4',\n",
       " 'NADH-benzamidoxime reductase',\n",
       " 'NOX-B11',\n",
       " 'DKP-insulin',\n",
       " '8-chloro-FAD',\n",
       " 'homeobox protein HOXA9',\n",
       " 'MDX 4-4210',\n",
       " 'NAD phosphite oxidoreductase',\n",
       " 'NAD sulfite',\n",
       " 'IEM 570',\n",
       " 'DNA-dependent protein methylase',\n",
       " 'UDP glucose-collagen glucosyltransferase',\n",
       " 'TZA 2237',\n",
       " 'NAP-ouabain',\n",
       " 'EDBA',\n",
       " 'VIG protocol',\n",
       " 'Blankophor BHC',\n",
       " 'Super EBA',\n",
       " 'BTM 1042',\n",
       " 'EDTA monooxygenase',\n",
       " 'VFQNQFKGIQGRF',\n",
       " 'glycoprotein GVP-11',\n",
       " 'ORF 17583',\n",
       " 'ATX-S10',\n",
       " 'TRH-like bioactivity',\n",
       " 'BBM-928 A',\n",
       " 'UDPacetylglucosamine-protein acetylglucosaminyltransferase',\n",
       " 'protein kinase NII',\n",
       " 'exoATPase',\n",
       " 'thiouridine-tRNA sulfurtransferase',\n",
       " 'alprenolol-NBD',\n",
       " 'DAP213 solution',\n",
       " 'NADH-NAD transhydrogenase',\n",
       " 'NADH sideramine reductase',\n",
       " 'MEN 11505',\n",
       " 'FDC blue lake no.2',\n",
       " 'testosterone-DAP-fluorescein',\n",
       " 'testosterone-DAH-fluorescein',\n",
       " 'testosterone-cysteamine-DANS',\n",
       " 'RLH 033',\n",
       " 'EMD 51921',\n",
       " 'EFLA 85942',\n",
       " 'TALTSV',\n",
       " 'gamma-glutamyl DOPA',\n",
       " 'LSL 60101',\n",
       " 'BCR 693',\n",
       " 'ZIMET 86-76',\n",
       " 'HEM-1 phosphate transport inhibitor',\n",
       " 'TIGIRR-1 receptor',\n",
       " 'NEO 6002',\n",
       " 'DDOH',\n",
       " 'TAN 1813',\n",
       " 'nucleoside diphosphosugar NAD+ 2-hexosyloxidoreductase',\n",
       " 'OPEC protocol 1',\n",
       " 'OPEC-D protocol',\n",
       " 'PADIC protocol',\n",
       " 'NADPH peroxidase',\n",
       " '5-methyl-dCTP deaminase',\n",
       " 'VAD protocol',\n",
       " 'SPI-001',\n",
       " 'CVAP-B protocol',\n",
       " 'APS 306',\n",
       " 'BXL628',\n",
       " 'BMS 181101',\n",
       " 'PNU 96415E',\n",
       " 'PMS 536',\n",
       " 'PMS 549',\n",
       " 'ADIC protocol',\n",
       " 'MEPH protocol',\n",
       " 'RATE protocol',\n",
       " 'BCP protocol',\n",
       " 'PRTx3-7 toxin',\n",
       " 'CARA protocol',\n",
       " 'GPI0100',\n",
       " 'BZA 5B',\n",
       " 'DMP 444',\n",
       " 'NBC-insulin',\n",
       " 'PMP protocol',\n",
       " 'LDL-sucrose',\n",
       " 'FCE 23884',\n",
       " 'WRYamide',\n",
       " 'SFLLRNPND',\n",
       " 'MRL-37',\n",
       " 'ADP - thymidine kinase',\n",
       " 'SZJ 3361',\n",
       " 'CENTA',\n",
       " 'BCOMM protocol',\n",
       " 'CDOP protocol',\n",
       " 'CPHSKPCLC peptide',\n",
       " 'C-SNAM compound',\n",
       " 'palladium alloy PGC',\n",
       " 'ADP-G-actin',\n",
       " 'IMD-1041',\n",
       " 'BZA-2B',\n",
       " 'VBAMDex protocol',\n",
       " 'diacetylspiramycin III',\n",
       " 'EORTC GIMEMA AML-13 protocol',\n",
       " '9-AMA',\n",
       " 'CMF-B protocol',\n",
       " 'TJN 950',\n",
       " 'aza-epsilon-AMP',\n",
       " 'CIBA 44328',\n",
       " 'GDP mannuronic acid',\n",
       " 'OPP protocol',\n",
       " 'NAP taurine',\n",
       " 'SYTO 13',\n",
       " 'BAFMi protocol',\n",
       " 'CMT-308',\n",
       " 'MDL 29913',\n",
       " 'VBMF protocol',\n",
       " 'CGP 55461',\n",
       " 'LMFP protocol',\n",
       " 'TAB antidote',\n",
       " 'MOL 6131',\n",
       " 'BWA 444U',\n",
       " 'tyrosine protein kinase IIB',\n",
       " 'ACFT protocol',\n",
       " 'ENT 2000 resin',\n",
       " 'longibrachin LGB II',\n",
       " 'longibrachin LGB III',\n",
       " 'VAPOL ligand',\n",
       " 'MDC protocol',\n",
       " 'BPDZ 44',\n",
       " 'VMF protocol',\n",
       " 'DNA-dependent ATPase-endonuclease',\n",
       " 'RAD 154',\n",
       " 'TAK-070',\n",
       " 'urea-EDTA',\n",
       " 'MEDICA 16',\n",
       " 'SAN 202791',\n",
       " 'TAPA protocol',\n",
       " 'CpG ODN 1585',\n",
       " 'NIP-222',\n",
       " 'DHM 32-550',\n",
       " 'DCN 203-922',\n",
       " 'FEN protocol',\n",
       " 'ADP reductase',\n",
       " 'ZAMI 1305',\n",
       " 'HOE 825',\n",
       " 'MLV 5860',\n",
       " 'MDL 28133A',\n",
       " 'JBIR-136',\n",
       " 'BMS 192548',\n",
       " 'Chlorantine Fast Red 6BLL',\n",
       " 'CTC 96',\n",
       " 'CAM combination',\n",
       " 'VUFB 14170',\n",
       " 'TMC-69',\n",
       " 'TMC-69-6H',\n",
       " 'technetium Tc 99m-wofatit SBW',\n",
       " 'DOPP-protocol',\n",
       " 'MCHC protocol',\n",
       " 'POCAL protocol',\n",
       " 'SDI 157',\n",
       " 'ORG 21465',\n",
       " 'EGL-II glycosphingolipid',\n",
       " 'RDV peptide',\n",
       " 'methionyl-tRNA-Met-f deacylase',\n",
       " 'TRAMPCO protocol',\n",
       " 'MCPD protocol',\n",
       " 'BACT protocol',\n",
       " 'UDPgalactose-ovalbumin galactosyltransferase',\n",
       " 'TPP-SP-G',\n",
       " 'HEM-2G',\n",
       " 'MOF-Strep protocol',\n",
       " 'polypeptide PPA-80',\n",
       " 'UDP dialdehyde',\n",
       " 'IDD552',\n",
       " 'DNA-cellulose',\n",
       " 'SRI 7614',\n",
       " 'UDPglucose tert-cinnamate glucosyltransferase',\n",
       " 'BCG lipopolysaccharide',\n",
       " 'toxin VII',\n",
       " 'CGP 53391',\n",
       " 'IMVP-16 protocol',\n",
       " 'AMG 076',\n",
       " 'NK cell receptor KIR103AS',\n",
       " 'UDPgalactose-glucosylceramide galactosyltransferase',\n",
       " 'CHF protocol',\n",
       " 'manganese GTP',\n",
       " 'RNA primers',\n",
       " 'FAUC 179',\n",
       " 'NADH duroquinone reductase',\n",
       " 'iso-FMN',\n",
       " 'EXP 063',\n",
       " 'cimifoetiside VII',\n",
       " 'MVVPP protocol',\n",
       " 'PM-FAC protocol',\n",
       " 'CGP 15425',\n",
       " 'MLN 944',\n",
       " 'VABCD protocol',\n",
       " 'MOP-BAP protocol',\n",
       " 'FLIT-MLO',\n",
       " 'RIGScan CR49',\n",
       " 'CCNU-VP protocol',\n",
       " 'GDPfucose-GM1 ganglioside alpha-fucosyltransferase',\n",
       " 'WRR 183',\n",
       " 'HMQ1611',\n",
       " 'Ac-R10G-pSPTF-CO2H',\n",
       " 'AVCT protocol',\n",
       " 'periodate-oxidized ADP',\n",
       " 'ADSOL',\n",
       " 'NPC 16731',\n",
       " 'DHP-14-AB protein',\n",
       " 'RAD 150',\n",
       " 'FCE 24379',\n",
       " 'FCE 22716',\n",
       " 'DNA modification methylase HpyI',\n",
       " 'NAP57',\n",
       " 'EXP3312',\n",
       " 'TMF protocol',\n",
       " 'AVIP protocol',\n",
       " 'actinomycin D-dATGCAT complex',\n",
       " 'UFTM protocol',\n",
       " 'OSI-420',\n",
       " 'CAMP-L protocol',\n",
       " 'UDPgalactose-keratan galactosyltransferase',\n",
       " 'NCO 650',\n",
       " 'SCH 466457',\n",
       " '2-fluoro-ATP',\n",
       " 'bilirubin UDP-glucosyltransferase',\n",
       " 'AAAP protocol',\n",
       " 'CYOMAD protocol',\n",
       " 'LAS 31180',\n",
       " 'VAC-MAP protocol',\n",
       " 'VAD combination',\n",
       " 'FCE 22250',\n",
       " 'ISIS 13650',\n",
       " 'WHI P97',\n",
       " 'supF tRNA',\n",
       " 'sodium ammonium ATPase',\n",
       " 'potassium magnesium ATPase',\n",
       " 'MECCA protocol',\n",
       " 'MCM protocol',\n",
       " 'RAP polymer',\n",
       " 'PAV protocol',\n",
       " 'TMC-95A',\n",
       " 'COFP protocol 1',\n",
       " 'SBA-15',\n",
       " 'NNC 12-0722',\n",
       " 'ACMFVP protocol',\n",
       " 'ATPase-dATPase',\n",
       " 'EGTA acetoxymethyl ester',\n",
       " 'ABA 571',\n",
       " 'AM toxin III',\n",
       " 'iodo-LDL',\n",
       " 'UDP-galactose-asialomucin galactosyltransferase',\n",
       " 'VABA protocol',\n",
       " 'CAT-G protocol',\n",
       " 'TMC-95B',\n",
       " 'TMC-95C',\n",
       " 'EMD 60263',\n",
       " 'TMC-95D',\n",
       " 'HGG 12',\n",
       " 'RKB-3564 D',\n",
       " 'MTX-CF protocol',\n",
       " 'ROL 1943',\n",
       " 'TEI 4343',\n",
       " '2-aminofluorene-DNA complex',\n",
       " '2-thio-FAD',\n",
       " 'IRP 6',\n",
       " 'ZPCK',\n",
       " 'BOF A1',\n",
       " 'NCC-ST-421 antigen',\n",
       " 'TFC 132',\n",
       " 'TEI 1324',\n",
       " 'GIF 0010',\n",
       " 'GIF 0037',\n",
       " 'antithrombin III Paris',\n",
       " 'histolyn CYL',\n",
       " 'NFO protocol',\n",
       " 'CAD protocol 1',\n",
       " 'PGE 9509924',\n",
       " 'PGE 9262932',\n",
       " 'VAV protocol',\n",
       " 'FAB protocol',\n",
       " 'BTS 39542',\n",
       " \"N-DEVD-N'-morpholinecarbonyl-rhodamine 110\",\n",
       " 'GDP mannose polyisoprenylphosphate mannosyltransferase',\n",
       " 'IRX 1775',\n",
       " 'SYSpur derm',\n",
       " 'BELD protocol',\n",
       " 'RBI 011',\n",
       " 'EMD 60480',\n",
       " 'EMD 57970',\n",
       " 'XAMA 7',\n",
       " 'WSP677',\n",
       " 'WSP740',\n",
       " 'CPH 82',\n",
       " 'MEV-AD protocol',\n",
       " 'CMP-N-acylneuraminate phosphodiesterase',\n",
       " 'CRA 1001',\n",
       " 'SIB 1893',\n",
       " 'HGG 52',\n",
       " 'HOAGP protocol',\n",
       " 'BODIPY-alpha-casein',\n",
       " 'DNA modification methylase Eco57I',\n",
       " 'single stranded DNA dependent ATPase',\n",
       " 'WAY 120744',\n",
       " 'DNA modification methylase LlaI',\n",
       " 'DNA modification methylase CviBI',\n",
       " 'DNA modification methylase EcoprrI',\n",
       " 'DNA modification methylase BspKT6I',\n",
       " 'DNA modification methylase BspIS4I',\n",
       " 'beta-lactamase CAZ-5',\n",
       " 'ICI 145730',\n",
       " 'BAY y 5959',\n",
       " 'EBVP protocol',\n",
       " 'UDP-Gal-beta-galactoside beta1-3-galactosyltransferase',\n",
       " 'EXP6155',\n",
       " 'EXP6803',\n",
       " 'FLB 524',\n",
       " 'KWD 2078',\n",
       " 'antithrombin III Alger',\n",
       " 'TOK 8801',\n",
       " 'PNU 157977',\n",
       " 'antibiotic APHE 3',\n",
       " 'gamma-monomethylGTP',\n",
       " 'TSSC3 protein',\n",
       " 'beta-lactamase THIN-B',\n",
       " 'beta-lactamase AST-1',\n",
       " 'PCMG',\n",
       " 'HESA-A preparation',\n",
       " 'BIM 23197',\n",
       " 'BIM 23190',\n",
       " 'chrysene-DNA adduct',\n",
       " 'KRDS peptide',\n",
       " 'VIA protocol',\n",
       " 'protease PACE4C',\n",
       " 'RIT 2214',\n",
       " 'INTERCEED',\n",
       " 'CGP 47778A',\n",
       " 'CGP 520',\n",
       " 'GVP anti-ulcer agent',\n",
       " 'LMF protocol',\n",
       " 'CCHC 2',\n",
       " 'glutamyl tRNA dehydrogenase',\n",
       " 'endodeoxyribonuclease VII',\n",
       " 'MESK',\n",
       " 'TO-PRO-1',\n",
       " 'MSH-daunomycin conjugate',\n",
       " 'SPK 3',\n",
       " 'BMS 189090',\n",
       " 'RTI 51',\n",
       " 'RTI 112',\n",
       " 'MDL 100748',\n",
       " 'factor XII Bern',\n",
       " 'ISIS 4015',\n",
       " 'indium-111-DOTA-peptide chimeric L6',\n",
       " 'poly AUG',\n",
       " 'ACOP-E protocol',\n",
       " 'modification methylase BseMII',\n",
       " 'INCB 13739',\n",
       " 'MDL 20828',\n",
       " 'CGP 4718A',\n",
       " 'DNA modification methylase PstI',\n",
       " 'DNA modification methylase TaqI',\n",
       " 'indium DTPA-adriamycin',\n",
       " 'COMP-VAN protocol',\n",
       " 'methyl-ISP',\n",
       " 'ANNINE-6plus',\n",
       " 'MTSP-1 serine protease',\n",
       " 'MTSP-2 serine protease',\n",
       " 'mycinamicin VIII',\n",
       " 'SANORG 32701',\n",
       " 'ORG 9991',\n",
       " 'MACOP-B regimen',\n",
       " 'SIV envelope glycoprotein gp160',\n",
       " 'ISF 2715',\n",
       " 'ASL 7022',\n",
       " 'DEPN 8',\n",
       " 'VPA protocol',\n",
       " 'VAC-M protocol',\n",
       " 'lactosylated LDL',\n",
       " 'VADIC protocol',\n",
       " 'DEAE-Trisacryl',\n",
       " 'RPR 5',\n",
       " 'RMI 11002',\n",
       " 'RMI 9563',\n",
       " 'MDL 74721',\n",
       " 'VUFB 13468',\n",
       " 'DMV regimen',\n",
       " 'RNA-tyrosine phosphatase',\n",
       " 'FPL 14294',\n",
       " 'ONO 6240',\n",
       " 'BIM 23034',\n",
       " 'ICI 58301',\n",
       " 'LR12 SPM',\n",
       " 'EGTA ethyl ester',\n",
       " 'BEAM protocol',\n",
       " 'VinMCP protocol',\n",
       " 'benzo-ATP',\n",
       " 'VAMP-EEE protocol',\n",
       " 'OPAL protocol',\n",
       " 'peptide NY-ESO-1 157-165',\n",
       " 'TEI 3313',\n",
       " 'desoxyfructo-L-DOPA',\n",
       " 'SKM 4-45-1',\n",
       " 'mitomycin C-DNA adduct',\n",
       " 'CGS 1068B',\n",
       " 'CMRF-56 antigen',\n",
       " 'psoralen-DNA adduct',\n",
       " 'CCE protocol',\n",
       " 'NAD-pyruvate adduct',\n",
       " 'rofetan GOT',\n",
       " 'altertoxin III',\n",
       " 'z-VAD-DCB',\n",
       " 'ICI 194008',\n",
       " 'beta-lactamase CTX-M-5',\n",
       " 'beta-lactamase CTX-M-6',\n",
       " 'ICI 193428',\n",
       " 'CRL 40385',\n",
       " 'DNA polymerase A',\n",
       " 'CGP 44171A',\n",
       " 'NRDC 157',\n",
       " 'flushing solution PBSuc 50',\n",
       " 'ALL-BFM-95 protocol',\n",
       " 'BRL 28410',\n",
       " 'DPPB compound',\n",
       " 'RHCBZ',\n",
       " 'AHN 086',\n",
       " 'GH Regulated TBC Protein-1',\n",
       " 'vitamin K1 aglycone III',\n",
       " 'MVI-12',\n",
       " 'NSC 680410',\n",
       " 'technetium-99m-AGGCG',\n",
       " 'technetium-99m-ASSCG',\n",
       " 'technetium-99m-AGGCL',\n",
       " 'CHAMOCA regimen',\n",
       " 'benzyl-EDTA',\n",
       " 'BPH-652',\n",
       " 'VAMP-ME protocol',\n",
       " 'FPA-306',\n",
       " 'RMI 10874DA',\n",
       " 'telon fast red AFG',\n",
       " 'ICI 206970',\n",
       " '11-MeBPDE',\n",
       " 'RNA polymerase omega subunit',\n",
       " 'LVV-hemorphin-5',\n",
       " 'VMP-3 protocol',\n",
       " 'biotin-19-SS-dUTP',\n",
       " 'biotin-12-SS-dUTP',\n",
       " '8-hydroxy-FAD',\n",
       " 'cyclo-RGDPhg',\n",
       " 'AGL 517',\n",
       " 'BPC 151',\n",
       " 'antithrombin III Geneva',\n",
       " 'FMI protocol',\n",
       " 'SMR 2',\n",
       " 'SMR 6',\n",
       " 'AGN 190727',\n",
       " 'antithrombin III Utah',\n",
       " 'ANA 2000',\n",
       " 'ANA 68',\n",
       " 'AHR 15010',\n",
       " 'COR 3286',\n",
       " 'factor IX-antithrombin III complex',\n",
       " 'ZENECA ZD0490',\n",
       " 'distamycin-DAPI',\n",
       " 'CDR 87-209',\n",
       " 'MTF protocol',\n",
       " 'VP-BBML protocol',\n",
       " 'GDP-mannose - serine-protein mannose-1-phosphotransferase',\n",
       " 'CGP 69669A',\n",
       " 'LOE 908',\n",
       " 'actinomycin HKI 0155',\n",
       " 'benzoylated DEAE-cellulose',\n",
       " 'CGC 11179',\n",
       " 'UDP-N-acetylgalactosamine-chondroitin sulfate N-acetylgalactosaminyltransferase',\n",
       " 'IMEP protocol',\n",
       " 'MDL 74366',\n",
       " 'rhodomollein III',\n",
       " 'WAY-140312',\n",
       " 'ABLE protocol',\n",
       " 'acetoacetyl-LDL',\n",
       " 'SPM VIII',\n",
       " 'ATP-dependent DNA strand transferase',\n",
       " 'CGP 65015',\n",
       " 'BBM-928 C',\n",
       " 'COMVP protocol',\n",
       " 'SAD-128',\n",
       " 'CEP protocol',\n",
       " 'VEP protocol',\n",
       " 'MOP protocol',\n",
       " 'Ph-TTHA',\n",
       " 'alphaA-conotoxin OIVA',\n",
       " 'FLAP regimen',\n",
       " 'FLEP protocol',\n",
       " 'BAY-m 4786',\n",
       " 'VCRC-INS-A-23',\n",
       " 'endodeoxyribonuclease StyLTI',\n",
       " 'SDZ 204-090',\n",
       " 'DNA restriction enzyme EcoPI',\n",
       " 'DNA modification methylase MTaqI',\n",
       " 'DNA modification methylase MClaI',\n",
       " 'DNA modification methylase HpaI',\n",
       " 'DNA modification methylase MboII',\n",
       " 'DNA modification methylase EcoPI',\n",
       " 'DNA modification methylase FokI',\n",
       " 'CBS 211 A',\n",
       " 'DNA modification methylase StyLTI',\n",
       " 'succinyl cyclic AMP-tyrosine methyl ester',\n",
       " 'IHC 64',\n",
       " 'NSC 127755',\n",
       " 'endoribonuclease CSP41',\n",
       " 'DJS 631',\n",
       " 'DJS 811',\n",
       " 'RNP transcriptase',\n",
       " 'ZIMET 38-74',\n",
       " 'BOMT',\n",
       " 'OF 4949-III',\n",
       " 'IHFAN 30',\n",
       " 'ROM 203',\n",
       " 'ICI 119033',\n",
       " 'UTP-1-aminonaphthalene-5-sulfonate',\n",
       " 'mono-DTPA-ethylene glycol-gallium-deuteroporphyrin',\n",
       " 'HDM vaccine',\n",
       " 'UDP-N-acetylglucosamine-keratan-N-acetylglucosaminyltransferase',\n",
       " 'PEP-UDP-GlcNAc transferase',\n",
       " 'UDP-acetylglucosamine-beta-D-galactosylsaccharide acetylglucosaminyltransferase',\n",
       " 'BRL 39924A',\n",
       " 'SDZ 51641',\n",
       " 'TAK-B1 antigen',\n",
       " 'TMVPLA2 I',\n",
       " 'ICI 79792',\n",
       " 'CHIVPP protocol',\n",
       " 'UDP-glucose cyanidin-3-O-glucosyltransferase',\n",
       " 'beta-lactamase TEM-3',\n",
       " 'punaglandin III',\n",
       " 'IEVM protocol',\n",
       " 'DCVP-1-asp protocol',\n",
       " 'ecdysteroid UDP-glucosyltransferase',\n",
       " 'CIOP protocol',\n",
       " 'NNC 22-0215',\n",
       " 'FRP-170',\n",
       " 'PABRON-GOLD',\n",
       " 'UDP-3-fluoro-3-deoxygalactose',\n",
       " 'LEAMP protocol',\n",
       " 'SYN 987',\n",
       " 'WEB 2118',\n",
       " 'gadolinium IMP241',\n",
       " 'DPC11870-11',\n",
       " 'POEM-Bleo protocol',\n",
       " 'HBBPC',\n",
       " 'IEM 1754',\n",
       " '4-hydroxyaminoquinoline-1-oxide-DNA adduct',\n",
       " 'ALTA 2341',\n",
       " 'SXN101742 protein',\n",
       " 'DNA modification methylase MboI',\n",
       " 'Miltenberger III-like molecule glycophorin variant',\n",
       " 'DNA-lysine adduct',\n",
       " 'BBR 2889',\n",
       " 'IDRA 21',\n",
       " 'RKS 1778',\n",
       " 'Dns-NH2-VVTGVKTGVKTVT-CO2H',\n",
       " 'MKW antigen',\n",
       " 'SDZ 62-434',\n",
       " 'OPC 15160',\n",
       " 'FPL 66301',\n",
       " 'CGS 22745',\n",
       " 'CEP regimen',\n",
       " 'CGP 53153',\n",
       " 'WAY 123223',\n",
       " 'ITF 5005',\n",
       " 'ALVAC-HIV vCP1452',\n",
       " 'GVF protocol',\n",
       " 'SAS 646',\n",
       " 'T101 FAB fragment-ricin A-chain immunotoxin',\n",
       " 'OCA-983',\n",
       " 'CAC protocol',\n",
       " 'SYN-1193',\n",
       " 'GYKI 52466',\n",
       " 'angiotensin II-producing serum enzyme III',\n",
       " 'CHOP-VP16 protocol',\n",
       " 'NSC 158393',\n",
       " 'SYN-1253',\n",
       " 'GYKI 46544',\n",
       " 'PNU 103657',\n",
       " 'ONO 6818',\n",
       " 'STS 267',\n",
       " 'XMO 10',\n",
       " 'factor XIII subunit A',\n",
       " 'PCA 16',\n",
       " 'P-PB.III peptide',\n",
       " 'LFA703',\n",
       " 'ROM 195',\n",
       " 'THRX 165724',\n",
       " '131I-chimeric TNT-1-B monoclonal antibody',\n",
       " 'GDP-mannose transporter',\n",
       " 'CGS 10746B',\n",
       " 'IVA protocol',\n",
       " 'periodate-oxidized 3-aminopyridine ADP',\n",
       " 'EBCO',\n",
       " 'LIGA 20',\n",
       " 'HIVAC-1e',\n",
       " 'CHLOROPP protocol',\n",
       " 'KDEL receptor',\n",
       " 'HDEL receptor',\n",
       " 'scotchbond VLC',\n",
       " 'DNA-Sephadex',\n",
       " 'TAN 1057D',\n",
       " 'ETI protocol',\n",
       " 'endonuclease NUC18',\n",
       " 'alcohol - NDMA oxidoreductase',\n",
       " 'RPR 102359',\n",
       " 'EVDAC regimen',\n",
       " 'MPC-1 antigen',\n",
       " 'ADAAV solution',\n",
       " 'ETH 5214',\n",
       " 'FluorEver OBA',\n",
       " 'DMP 406',\n",
       " 'ETH 1810',\n",
       " 'SRM 2977',\n",
       " 'CNC-2 galactocerebroside',\n",
       " 'HCOMLA protocol',\n",
       " 'CBVPM protocol',\n",
       " 'RWJ 58259',\n",
       " 'NOAC protocol',\n",
       " 'BMFt protocol',\n",
       " 'pancreatic cancer-associated antigen MUSE11',\n",
       " 'fibrinogen Kyoto III',\n",
       " 'MOCCA protocol',\n",
       " 'HOPE-Bleo protocol',\n",
       " '4AZA1378',\n",
       " 'TADG-12 serine protease',\n",
       " 'KIA7 protein',\n",
       " 'herbal product TMN-1',\n",
       " 'tRNA-pseudouridine synthase I',\n",
       " 'LSN862',\n",
       " 'MCPP protocol',\n",
       " 'TMC 016',\n",
       " 'WIN 61605',\n",
       " 'antithrombin III Kumamoto',\n",
       " 'NPK 1868',\n",
       " 'cyclic AMP-regulated phosphoprotein 16',\n",
       " 'ACT regimen',\n",
       " 'PAFT protocol',\n",
       " 'AWD 140076',\n",
       " 'beta-lactamase TEM-9',\n",
       " 'Gd-DOTA-4amP',\n",
       " 'BMY-45012',\n",
       " 'TMC 49A',\n",
       " 'RNA-cleaving DNA 10-23',\n",
       " 'isothiocyanate-benzyl-DTPA',\n",
       " 'ECAPP protocol',\n",
       " 'RNA polymerase sigma A',\n",
       " 'Chlorella virus DNA ligase',\n",
       " 'SBAS4 adjuvant system',\n",
       " 'diethylstilbesterol-DNA adduct',\n",
       " 'SAZ VII 6',\n",
       " 'SAZ VII 23',\n",
       " 'nuclear factor CIIIB1',\n",
       " 'AGN 191976',\n",
       " 'GYKI 46903',\n",
       " 'HOE 84498',\n",
       " 'SDK 50',\n",
       " 'CEF regimen',\n",
       " 'NOPE protocol',\n",
       " 'PHYLPA 18',\n",
       " 'ORBO 42',\n",
       " 'ORBO 44',\n",
       " 'LGPI-29',\n",
       " 'BEMP protocol',\n",
       " 'FLA 797',\n",
       " 'RNA polymerase SP6',\n",
       " 'FMRFamide precursor',\n",
       " 'VAMP combination',\n",
       " 'CAPT protocol',\n",
       " 'ADP-ribose pyrophosphatase I',\n",
       " 'PKSI 1007',\n",
       " 'TKA731',\n",
       " 'COP-PAF protocol',\n",
       " 'WIN 56590',\n",
       " 'fibrinogen Bern III',\n",
       " 'CAD protocol 3',\n",
       " 'vanadate-sensitive ATPase',\n",
       " 'NSD 2023',\n",
       " 'CNS 5161',\n",
       " 'Polyox WSR-N 60',\n",
       " 'CEP 1513',\n",
       " 'CEP 1601',\n",
       " 'NID525',\n",
       " 'SDZ 281-240',\n",
       " 'CGH 752',\n",
       " 'cepafungin III',\n",
       " 'PACEBO protocol',\n",
       " 'ONO 3307',\n",
       " 'VTMFAP protocol',\n",
       " 'LSD receptor',\n",
       " 'DNA modification methylase CviRI',\n",
       " 'CMT-5 compound',\n",
       " 'EMD 486019',\n",
       " 'TPDCV protocol',\n",
       " 'DAK 16',\n",
       " 'LNH87-2 protocol',\n",
       " 'factor VIII Ise',\n",
       " 'DCQVA-CoA synthetase',\n",
       " 'NEO-MACOP-B protocol',\n",
       " 'xanthurenic acid-UDP-glucosyltransferase',\n",
       " 'JMV 170',\n",
       " 'INF55 compound',\n",
       " ...]"
      ]
     },
     "execution_count": 26,
     "metadata": {},
     "output_type": "execute_result"
    }
   ],
   "source": [
    "acro_3"
   ]
  },
  {
   "cell_type": "code",
   "execution_count": null,
   "id": "d32aad60",
   "metadata": {},
   "outputs": [],
   "source": []
  }
 ],
 "metadata": {
  "kernelspec": {
   "display_name": "Python 3 (ipykernel)",
   "language": "python",
   "name": "python3"
  },
  "language_info": {
   "codemirror_mode": {
    "name": "ipython",
    "version": 3
   },
   "file_extension": ".py",
   "mimetype": "text/x-python",
   "name": "python",
   "nbconvert_exporter": "python",
   "pygments_lexer": "ipython3",
   "version": "3.8.11"
  }
 },
 "nbformat": 4,
 "nbformat_minor": 5
}
