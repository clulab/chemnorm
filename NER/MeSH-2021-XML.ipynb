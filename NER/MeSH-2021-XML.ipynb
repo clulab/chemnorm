{
 "cells": [
  {
   "cell_type": "code",
   "execution_count": 51,
   "id": "b40c1ae0",
   "metadata": {
    "scrolled": true
   },
   "outputs": [],
   "source": [
    "# from bs4 import BeautifulSoup\n",
    "\n",
    "with open('desc2021 (1).xml', 'r') as f:\n",
    "    data = f.read()\n",
    "\n",
    "# bs_data = BeautifulSoup(data, 'xml')\n",
    "\n",
    "# b_descriptorname = bs_data.find_all('DescriptorName')"
   ]
  },
  {
   "cell_type": "code",
   "execution_count": 2,
   "id": "46b383f5",
   "metadata": {
    "scrolled": true
   },
   "outputs": [],
   "source": [
    "import pandas as pd\n",
    "import numpy as np\n",
    "import xml.etree.ElementTree as ET\n",
    "# from lxml import etree\n",
    "\n",
    "from IPython.core.interactiveshell import InteractiveShell\n",
    "InteractiveShell.ast_node_interactivity = \"all\""
   ]
  },
  {
   "cell_type": "code",
   "execution_count": 53,
   "id": "3ec58474",
   "metadata": {
    "scrolled": true
   },
   "outputs": [],
   "source": [
    "# parser = etree.XMLParser(recover=True)\n",
    "# tree = ET.parse('desc2021 (1).xml', parser=parser)\n",
    "tree = ET.parse('desc2021 (1).xml')\n",
    "root = tree.getroot()"
   ]
  },
  {
   "cell_type": "code",
   "execution_count": null,
   "id": "ef4b993b",
   "metadata": {
    "scrolled": true
   },
   "outputs": [],
   "source": [
    "# xml = data\n",
    "# parser = etree.XMLParser(recover=True)\n",
    "# tree = ET.fromstring(xml, parser=parser)\n",
    "# value = tree.findall('DescriptorUI')"
   ]
  },
  {
   "cell_type": "code",
   "execution_count": 54,
   "id": "fde0904f",
   "metadata": {
    "scrolled": true
   },
   "outputs": [
    {
     "data": {
      "text/plain": [
       "'DescriptorRecordSet'"
      ]
     },
     "execution_count": 54,
     "metadata": {},
     "output_type": "execute_result"
    }
   ],
   "source": [
    "root.tag"
   ]
  },
  {
   "cell_type": "code",
   "execution_count": 6,
   "id": "8b90b117",
   "metadata": {
    "scrolled": true
   },
   "outputs": [
    {
     "data": {
      "text/plain": [
       "{'LanguageCode': 'eng'}"
      ]
     },
     "execution_count": 6,
     "metadata": {},
     "output_type": "execute_result"
    }
   ],
   "source": [
    "root.attrib"
   ]
  },
  {
   "cell_type": "code",
   "execution_count": 55,
   "id": "5407dda9",
   "metadata": {
    "scrolled": true
   },
   "outputs": [
    {
     "data": {
      "text/plain": [
       "29917"
      ]
     },
     "execution_count": 55,
     "metadata": {},
     "output_type": "execute_result"
    }
   ],
   "source": [
    "i = 0\n",
    "for child in root:\n",
    "    i += 1\n",
    "i"
   ]
  },
  {
   "cell_type": "code",
   "execution_count": null,
   "id": "f944d30c",
   "metadata": {
    "scrolled": true
   },
   "outputs": [],
   "source": [
    "# chem_id = []\n",
    "# chem_name = []\n",
    "# for child in root:\n",
    "# #     print(child.tag)\n",
    "#     for c in child.iter('DescriptorUI'):\n",
    "#         chem_id.append(c.text)\n",
    "# #         print(c.tag, c.attrib, c.text)\n",
    "#     for c in child.iter('DescriptorName'):\n",
    "#         print(c.iter('String'))\n",
    "#         for s in c.iter('String'):\n",
    "#             print(s.text)"
   ]
  },
  {
   "cell_type": "code",
   "execution_count": 8,
   "id": "dd835278",
   "metadata": {},
   "outputs": [],
   "source": [
    "chemical_names = []\n",
    "chemical_id = []\n",
    "for child in root:\n",
    "    for c in child:\n",
    "        if c.tag == 'DescriptorUI':\n",
    "            chemical_id.append(c.text)\n",
    "        if c.tag == 'DescriptorName':\n",
    "            for s in c.iter('String'):\n",
    "                chemical_names.append(s.text)"
   ]
  },
  {
   "cell_type": "code",
   "execution_count": 9,
   "id": "c9a6d6b7",
   "metadata": {},
   "outputs": [
    {
     "data": {
      "text/plain": [
       "29917"
      ]
     },
     "execution_count": 9,
     "metadata": {},
     "output_type": "execute_result"
    }
   ],
   "source": [
    "len(chemical_names)"
   ]
  },
  {
   "cell_type": "code",
   "execution_count": 10,
   "id": "2d05acdf",
   "metadata": {},
   "outputs": [
    {
     "data": {
      "text/plain": [
       "29917"
      ]
     },
     "execution_count": 10,
     "metadata": {},
     "output_type": "execute_result"
    }
   ],
   "source": [
    "len(chemical_id)"
   ]
  },
  {
   "cell_type": "code",
   "execution_count": 11,
   "id": "5436480b",
   "metadata": {
    "scrolled": true
   },
   "outputs": [
    {
     "data": {
      "text/html": [
       "<div>\n",
       "<style scoped>\n",
       "    .dataframe tbody tr th:only-of-type {\n",
       "        vertical-align: middle;\n",
       "    }\n",
       "\n",
       "    .dataframe tbody tr th {\n",
       "        vertical-align: top;\n",
       "    }\n",
       "\n",
       "    .dataframe thead th {\n",
       "        text-align: right;\n",
       "    }\n",
       "</style>\n",
       "<table border=\"1\" class=\"dataframe\">\n",
       "  <thead>\n",
       "    <tr style=\"text-align: right;\">\n",
       "      <th></th>\n",
       "      <th>id</th>\n",
       "      <th>name</th>\n",
       "    </tr>\n",
       "  </thead>\n",
       "  <tbody>\n",
       "    <tr>\n",
       "      <th>0</th>\n",
       "      <td>D000001</td>\n",
       "      <td>Calcimycin</td>\n",
       "    </tr>\n",
       "    <tr>\n",
       "      <th>1</th>\n",
       "      <td>D000002</td>\n",
       "      <td>Temefos</td>\n",
       "    </tr>\n",
       "    <tr>\n",
       "      <th>2</th>\n",
       "      <td>D000003</td>\n",
       "      <td>Abattoirs</td>\n",
       "    </tr>\n",
       "    <tr>\n",
       "      <th>3</th>\n",
       "      <td>D000004</td>\n",
       "      <td>Abbreviations as Topic</td>\n",
       "    </tr>\n",
       "    <tr>\n",
       "      <th>4</th>\n",
       "      <td>D000005</td>\n",
       "      <td>Abdomen</td>\n",
       "    </tr>\n",
       "    <tr>\n",
       "      <th>...</th>\n",
       "      <td>...</td>\n",
       "      <td>...</td>\n",
       "    </tr>\n",
       "    <tr>\n",
       "      <th>29912</th>\n",
       "      <td>D066310</td>\n",
       "      <td>Digital Divide</td>\n",
       "    </tr>\n",
       "    <tr>\n",
       "      <th>29913</th>\n",
       "      <td>D066328</td>\n",
       "      <td>Ventral Striatum</td>\n",
       "    </tr>\n",
       "    <tr>\n",
       "      <th>29914</th>\n",
       "      <td>D066329</td>\n",
       "      <td>Protein Aggregates</td>\n",
       "    </tr>\n",
       "    <tr>\n",
       "      <th>29915</th>\n",
       "      <td>D066330</td>\n",
       "      <td>Printing, Three-Dimensional</td>\n",
       "    </tr>\n",
       "    <tr>\n",
       "      <th>29916</th>\n",
       "      <td>D066331</td>\n",
       "      <td>Laser-Evoked Potentials</td>\n",
       "    </tr>\n",
       "  </tbody>\n",
       "</table>\n",
       "<p>29917 rows × 2 columns</p>\n",
       "</div>"
      ],
      "text/plain": [
       "            id                         name\n",
       "0      D000001                   Calcimycin\n",
       "1      D000002                      Temefos\n",
       "2      D000003                    Abattoirs\n",
       "3      D000004       Abbreviations as Topic\n",
       "4      D000005                      Abdomen\n",
       "...        ...                          ...\n",
       "29912  D066310               Digital Divide\n",
       "29913  D066328             Ventral Striatum\n",
       "29914  D066329           Protein Aggregates\n",
       "29915  D066330  Printing, Three-Dimensional\n",
       "29916  D066331      Laser-Evoked Potentials\n",
       "\n",
       "[29917 rows x 2 columns]"
      ]
     },
     "execution_count": 11,
     "metadata": {},
     "output_type": "execute_result"
    }
   ],
   "source": [
    "# make a pd\n",
    "df = pd.DataFrame(list(zip(chemical_id, chemical_names)), columns = ['id', 'name'])\n",
    "df\n"
   ]
  },
  {
   "cell_type": "code",
   "execution_count": 12,
   "id": "ce79708e",
   "metadata": {},
   "outputs": [],
   "source": [
    "# save the df\n",
    "df.to_csv('desc2021.csv', index=False)"
   ]
  },
  {
   "cell_type": "code",
   "execution_count": null,
   "id": "7b286829",
   "metadata": {},
   "outputs": [],
   "source": [
    "for child in root:\n",
    "    for c in child:\n",
    "        print(c.tag)"
   ]
  },
  {
   "cell_type": "code",
   "execution_count": 65,
   "id": "6a13afe4",
   "metadata": {},
   "outputs": [
    {
     "name": "stdout",
     "output_type": "stream",
     "text": [
      "DescriptorRecord\n",
      "DescriptorRecord\n",
      "2\n"
     ]
    }
   ],
   "source": [
    "i = 0\n",
    "for child in root:\n",
    "    if not child.find('TreeNumberList'):\n",
    "            i += 1\n",
    "            \n",
    "#     for c in child:\n",
    "#         if c.tag == 'TreeNumberList':\n",
    "#             i += 1\n",
    "#         print(c.tag)\n",
    "\n",
    "print(i)"
   ]
  },
  {
   "cell_type": "code",
   "execution_count": 95,
   "id": "d66c86d8",
   "metadata": {},
   "outputs": [],
   "source": [
    "desc_id = []\n",
    "for child in root:\n",
    "    for c in child.findall('DescriptorUI'):\n",
    "        desc_id.append(c.text)"
   ]
  },
  {
   "cell_type": "code",
   "execution_count": 96,
   "id": "89c0677e",
   "metadata": {},
   "outputs": [
    {
     "data": {
      "text/plain": [
       "29917"
      ]
     },
     "execution_count": 96,
     "metadata": {},
     "output_type": "execute_result"
    }
   ],
   "source": [
    "len(desc_id)"
   ]
  },
  {
   "cell_type": "code",
   "execution_count": null,
   "id": "db1d095b",
   "metadata": {},
   "outputs": [],
   "source": [
    "desc_id"
   ]
  },
  {
   "cell_type": "code",
   "execution_count": null,
   "id": "bdf620a6",
   "metadata": {
    "scrolled": true
   },
   "outputs": [],
   "source": [
    "names = []\n",
    "tree_num = []\n",
    "desc_id = []\n",
    "for child in root:\n",
    "    if not child.find('TreeNumberList'):\n",
    "        continue\n",
    "        \n",
    "    for c in child.findall('TreeNumberList'):\n",
    "        temp = []\n",
    "        num = c.find('TreeNumber')\n",
    "        if num is None:\n",
    "            tree_num.append([])\n",
    "            continue\n",
    "        for s in c.iter('TreeNumber'):\n",
    "            if 'D' not in s.text:\n",
    "                continue    \n",
    "            temp.append(s.text)\n",
    "        \n",
    "        tree_num.append(temp)\n",
    "        \n",
    "    for c in child.findall('DescriptorName'):\n",
    "        name = c.find('String')\n",
    "        if name is None:\n",
    "            continue\n",
    "        names.append(name.text)\n",
    "    \n",
    "    for c in child.findall('DescriptorUI'):\n",
    "        desc_id.append(c.text)\n",
    "    \n",
    "            \n",
    "#         name = c.find('DescriptorName')\n",
    "#         names.append()\n",
    "\n",
    "tree_num"
   ]
  },
  {
   "cell_type": "code",
   "execution_count": 72,
   "id": "8d10a40c",
   "metadata": {},
   "outputs": [
    {
     "data": {
      "text/plain": [
       "29915"
      ]
     },
     "execution_count": 72,
     "metadata": {},
     "output_type": "execute_result"
    }
   ],
   "source": [
    "len(tree_num)"
   ]
  },
  {
   "cell_type": "code",
   "execution_count": null,
   "id": "94c54468",
   "metadata": {
    "scrolled": true
   },
   "outputs": [],
   "source": [
    "names"
   ]
  },
  {
   "cell_type": "code",
   "execution_count": 73,
   "id": "f3e4a040",
   "metadata": {},
   "outputs": [
    {
     "data": {
      "text/plain": [
       "29915"
      ]
     },
     "execution_count": 73,
     "metadata": {},
     "output_type": "execute_result"
    }
   ],
   "source": [
    "len(names)"
   ]
  },
  {
   "cell_type": "code",
   "execution_count": 98,
   "id": "6c9b8393",
   "metadata": {},
   "outputs": [
    {
     "data": {
      "text/plain": [
       "29915"
      ]
     },
     "execution_count": 98,
     "metadata": {},
     "output_type": "execute_result"
    }
   ],
   "source": [
    "len(desc_id)"
   ]
  },
  {
   "cell_type": "code",
   "execution_count": null,
   "id": "ec4e77a5",
   "metadata": {},
   "outputs": [],
   "source": [
    "# build a df of names and tree_num\n",
    "\n",
    "# convert the list of tree_num to a string\n",
    "tree_num_s = []\n",
    "for num in tree_num:\n",
    "    tree_num_s.append(', '.join(num))\n",
    "\n",
    "tree_num_s\n",
    "    "
   ]
  },
  {
   "cell_type": "code",
   "execution_count": 99,
   "id": "08cec4ba",
   "metadata": {},
   "outputs": [
    {
     "data": {
      "text/html": [
       "<div>\n",
       "<style scoped>\n",
       "    .dataframe tbody tr th:only-of-type {\n",
       "        vertical-align: middle;\n",
       "    }\n",
       "\n",
       "    .dataframe tbody tr th {\n",
       "        vertical-align: top;\n",
       "    }\n",
       "\n",
       "    .dataframe thead th {\n",
       "        text-align: right;\n",
       "    }\n",
       "</style>\n",
       "<table border=\"1\" class=\"dataframe\">\n",
       "  <thead>\n",
       "    <tr style=\"text-align: right;\">\n",
       "      <th></th>\n",
       "      <th>names</th>\n",
       "      <th>tree_num</th>\n",
       "      <th>desc_id</th>\n",
       "    </tr>\n",
       "  </thead>\n",
       "  <tbody>\n",
       "    <tr>\n",
       "      <th>0</th>\n",
       "      <td>Calcimycin</td>\n",
       "      <td>D03.633.100.221.173</td>\n",
       "      <td>D000001</td>\n",
       "    </tr>\n",
       "    <tr>\n",
       "      <th>1</th>\n",
       "      <td>Temefos</td>\n",
       "      <td>D02.705.400.625.800, D02.705.539.345.800, D02....</td>\n",
       "      <td>D000002</td>\n",
       "    </tr>\n",
       "    <tr>\n",
       "      <th>2</th>\n",
       "      <td>Abattoirs</td>\n",
       "      <td></td>\n",
       "      <td>D000003</td>\n",
       "    </tr>\n",
       "    <tr>\n",
       "      <th>3</th>\n",
       "      <td>Abbreviations as Topic</td>\n",
       "      <td></td>\n",
       "      <td>D000004</td>\n",
       "    </tr>\n",
       "    <tr>\n",
       "      <th>4</th>\n",
       "      <td>Abdomen</td>\n",
       "      <td></td>\n",
       "      <td>D000005</td>\n",
       "    </tr>\n",
       "    <tr>\n",
       "      <th>...</th>\n",
       "      <td>...</td>\n",
       "      <td>...</td>\n",
       "      <td>...</td>\n",
       "    </tr>\n",
       "    <tr>\n",
       "      <th>29910</th>\n",
       "      <td>Digital Divide</td>\n",
       "      <td></td>\n",
       "      <td>D066310</td>\n",
       "    </tr>\n",
       "    <tr>\n",
       "      <th>29911</th>\n",
       "      <td>Ventral Striatum</td>\n",
       "      <td></td>\n",
       "      <td>D066328</td>\n",
       "    </tr>\n",
       "    <tr>\n",
       "      <th>29912</th>\n",
       "      <td>Protein Aggregates</td>\n",
       "      <td>D05.875</td>\n",
       "      <td>D066329</td>\n",
       "    </tr>\n",
       "    <tr>\n",
       "      <th>29913</th>\n",
       "      <td>Printing, Three-Dimensional</td>\n",
       "      <td></td>\n",
       "      <td>D066330</td>\n",
       "    </tr>\n",
       "    <tr>\n",
       "      <th>29914</th>\n",
       "      <td>Laser-Evoked Potentials</td>\n",
       "      <td></td>\n",
       "      <td>D066331</td>\n",
       "    </tr>\n",
       "  </tbody>\n",
       "</table>\n",
       "<p>29915 rows × 3 columns</p>\n",
       "</div>"
      ],
      "text/plain": [
       "                             names  \\\n",
       "0                       Calcimycin   \n",
       "1                          Temefos   \n",
       "2                        Abattoirs   \n",
       "3           Abbreviations as Topic   \n",
       "4                          Abdomen   \n",
       "...                            ...   \n",
       "29910               Digital Divide   \n",
       "29911             Ventral Striatum   \n",
       "29912           Protein Aggregates   \n",
       "29913  Printing, Three-Dimensional   \n",
       "29914      Laser-Evoked Potentials   \n",
       "\n",
       "                                                tree_num  desc_id  \n",
       "0                                    D03.633.100.221.173  D000001  \n",
       "1      D02.705.400.625.800, D02.705.539.345.800, D02....  D000002  \n",
       "2                                                         D000003  \n",
       "3                                                         D000004  \n",
       "4                                                         D000005  \n",
       "...                                                  ...      ...  \n",
       "29910                                                     D066310  \n",
       "29911                                                     D066328  \n",
       "29912                                            D05.875  D066329  \n",
       "29913                                                     D066330  \n",
       "29914                                                     D066331  \n",
       "\n",
       "[29915 rows x 3 columns]"
      ]
     },
     "execution_count": 99,
     "metadata": {},
     "output_type": "execute_result"
    }
   ],
   "source": [
    "df_nm_tn = pd.DataFrame(list(zip(names, tree_num_s, desc_id)), columns=['names', 'tree_num', 'desc_id'])\n",
    "df_nm_tn"
   ]
  },
  {
   "cell_type": "code",
   "execution_count": 100,
   "id": "531bd0c3",
   "metadata": {},
   "outputs": [],
   "source": [
    "nan_value = float(\"NaN\")\n",
    "df_nm_tn.replace('', nan_value, inplace=True)\n",
    "df_nm_tn.dropna(subset=['tree_num'], inplace=True)"
   ]
  },
  {
   "cell_type": "code",
   "execution_count": 101,
   "id": "9d72ae11",
   "metadata": {},
   "outputs": [
    {
     "data": {
      "text/html": [
       "<div>\n",
       "<style scoped>\n",
       "    .dataframe tbody tr th:only-of-type {\n",
       "        vertical-align: middle;\n",
       "    }\n",
       "\n",
       "    .dataframe tbody tr th {\n",
       "        vertical-align: top;\n",
       "    }\n",
       "\n",
       "    .dataframe thead th {\n",
       "        text-align: right;\n",
       "    }\n",
       "</style>\n",
       "<table border=\"1\" class=\"dataframe\">\n",
       "  <thead>\n",
       "    <tr style=\"text-align: right;\">\n",
       "      <th></th>\n",
       "      <th>names</th>\n",
       "      <th>tree_num</th>\n",
       "      <th>desc_id</th>\n",
       "    </tr>\n",
       "  </thead>\n",
       "  <tbody>\n",
       "    <tr>\n",
       "      <th>0</th>\n",
       "      <td>Calcimycin</td>\n",
       "      <td>D03.633.100.221.173</td>\n",
       "      <td>D000001</td>\n",
       "    </tr>\n",
       "    <tr>\n",
       "      <th>1</th>\n",
       "      <td>Temefos</td>\n",
       "      <td>D02.705.400.625.800, D02.705.539.345.800, D02....</td>\n",
       "      <td>D000002</td>\n",
       "    </tr>\n",
       "    <tr>\n",
       "      <th>16</th>\n",
       "      <td>ABO Blood-Group System</td>\n",
       "      <td>D23.050.301.290.031, D23.050.705.230.031</td>\n",
       "      <td>D000017</td>\n",
       "    </tr>\n",
       "    <tr>\n",
       "      <th>18</th>\n",
       "      <td>Abortifacient Agents</td>\n",
       "      <td>D27.505.696.875.131, D27.505.954.705.131</td>\n",
       "      <td>D000019</td>\n",
       "    </tr>\n",
       "    <tr>\n",
       "      <th>19</th>\n",
       "      <td>Abortifacient Agents, Nonsteroidal</td>\n",
       "      <td>D27.505.696.875.131.100, D27.505.954.705.131.100</td>\n",
       "      <td>D000020</td>\n",
       "    </tr>\n",
       "    <tr>\n",
       "      <th>...</th>\n",
       "      <td>...</td>\n",
       "      <td>...</td>\n",
       "      <td>...</td>\n",
       "    </tr>\n",
       "    <tr>\n",
       "      <th>29873</th>\n",
       "      <td>Amphiregulin</td>\n",
       "      <td>D12.644.276.382.249, D12.776.467.382.249, D12....</td>\n",
       "      <td>D066258</td>\n",
       "    </tr>\n",
       "    <tr>\n",
       "      <th>29874</th>\n",
       "      <td>Betacellulin</td>\n",
       "      <td>D12.644.276.382.374, D12.776.467.382.374, D23....</td>\n",
       "      <td>D066259</td>\n",
       "    </tr>\n",
       "    <tr>\n",
       "      <th>29875</th>\n",
       "      <td>Epiregulin</td>\n",
       "      <td>D12.644.276.382.562, D12.776.467.382.562, D23....</td>\n",
       "      <td>D066260</td>\n",
       "    </tr>\n",
       "    <tr>\n",
       "      <th>29876</th>\n",
       "      <td>Epigen</td>\n",
       "      <td>D12.644.276.382.531, D12.776.467.382.531, D23....</td>\n",
       "      <td>D066261</td>\n",
       "    </tr>\n",
       "    <tr>\n",
       "      <th>29912</th>\n",
       "      <td>Protein Aggregates</td>\n",
       "      <td>D05.875</td>\n",
       "      <td>D066329</td>\n",
       "    </tr>\n",
       "  </tbody>\n",
       "</table>\n",
       "<p>10277 rows × 3 columns</p>\n",
       "</div>"
      ],
      "text/plain": [
       "                                    names  \\\n",
       "0                              Calcimycin   \n",
       "1                                 Temefos   \n",
       "16                 ABO Blood-Group System   \n",
       "18                   Abortifacient Agents   \n",
       "19     Abortifacient Agents, Nonsteroidal   \n",
       "...                                   ...   \n",
       "29873                        Amphiregulin   \n",
       "29874                        Betacellulin   \n",
       "29875                          Epiregulin   \n",
       "29876                              Epigen   \n",
       "29912                  Protein Aggregates   \n",
       "\n",
       "                                                tree_num  desc_id  \n",
       "0                                    D03.633.100.221.173  D000001  \n",
       "1      D02.705.400.625.800, D02.705.539.345.800, D02....  D000002  \n",
       "16              D23.050.301.290.031, D23.050.705.230.031  D000017  \n",
       "18              D27.505.696.875.131, D27.505.954.705.131  D000019  \n",
       "19      D27.505.696.875.131.100, D27.505.954.705.131.100  D000020  \n",
       "...                                                  ...      ...  \n",
       "29873  D12.644.276.382.249, D12.776.467.382.249, D12....  D066258  \n",
       "29874  D12.644.276.382.374, D12.776.467.382.374, D23....  D066259  \n",
       "29875  D12.644.276.382.562, D12.776.467.382.562, D23....  D066260  \n",
       "29876  D12.644.276.382.531, D12.776.467.382.531, D23....  D066261  \n",
       "29912                                            D05.875  D066329  \n",
       "\n",
       "[10277 rows x 3 columns]"
      ]
     },
     "execution_count": 101,
     "metadata": {},
     "output_type": "execute_result"
    }
   ],
   "source": [
    "df_nm_tn"
   ]
  },
  {
   "cell_type": "code",
   "execution_count": 102,
   "id": "84f0ab5b",
   "metadata": {},
   "outputs": [],
   "source": [
    "df_nm_tn.to_csv('names_tree_num.csv', index=False)"
   ]
  },
  {
   "cell_type": "markdown",
   "id": "5a4888ff",
   "metadata": {},
   "source": [
    "### Supplemental data 2021"
   ]
  },
  {
   "cell_type": "code",
   "execution_count": 3,
   "id": "4337c0c1",
   "metadata": {},
   "outputs": [],
   "source": [
    "tree_1 = ET.parse('supp2021.xml')\n",
    "root_1 = tree_1.getroot()"
   ]
  },
  {
   "cell_type": "code",
   "execution_count": 4,
   "id": "4e66db22",
   "metadata": {},
   "outputs": [
    {
     "data": {
      "text/plain": [
       "'SupplementalRecordSet'"
      ]
     },
     "execution_count": 4,
     "metadata": {},
     "output_type": "execute_result"
    }
   ],
   "source": [
    "root_1.tag"
   ]
  },
  {
   "cell_type": "code",
   "execution_count": 87,
   "id": "f22ae373",
   "metadata": {},
   "outputs": [
    {
     "data": {
      "text/plain": [
       "{'LanguageCode': 'eng'}"
      ]
     },
     "execution_count": 87,
     "metadata": {},
     "output_type": "execute_result"
    }
   ],
   "source": [
    "root_1.attrib"
   ]
  },
  {
   "cell_type": "code",
   "execution_count": null,
   "id": "b3aa87c2",
   "metadata": {
    "scrolled": true
   },
   "outputs": [],
   "source": [
    "i = 0\n",
    "for child in root_1:\n",
    "    print(child.tag)\n",
    "    for c in child:\n",
    "        print(c.tag)\n",
    "    i += 1"
   ]
  },
  {
   "cell_type": "code",
   "execution_count": null,
   "id": "6ebe0ba7",
   "metadata": {},
   "outputs": [],
   "source": [
    "# get the SupplementalRecordName and SupplementalRecordUI\n",
    "# HeadingMappedToList-DescriptorReferredTo-DescriptorUI\n",
    "supp_names = []\n",
    "supp_ui = []\n",
    "refer_ui = []\n",
    "\n",
    "for child in root_1:   \n",
    "    for c in child.findall('SupplementalRecordUI'):\n",
    "        supp_ui.append(c.text)\n",
    "        \n",
    "    for c in child.findall('SupplementalRecordName'):\n",
    "        name = c.find('String')\n",
    "        if name is None:\n",
    "            continue\n",
    "        supp_names.append(name.text)\n",
    "\n",
    "# supp_names\n",
    "supp_ui\n",
    "\n"
   ]
  },
  {
   "cell_type": "code",
   "execution_count": 104,
   "id": "21c9887c",
   "metadata": {},
   "outputs": [
    {
     "data": {
      "text/plain": [
       "317982"
      ]
     },
     "execution_count": 104,
     "metadata": {},
     "output_type": "execute_result"
    }
   ],
   "source": [
    "len(supp_names)"
   ]
  },
  {
   "cell_type": "code",
   "execution_count": 107,
   "id": "7276e018",
   "metadata": {},
   "outputs": [
    {
     "data": {
      "text/plain": [
       "317982"
      ]
     },
     "execution_count": 107,
     "metadata": {},
     "output_type": "execute_result"
    }
   ],
   "source": [
    "len(supp_ui)"
   ]
  },
  {
   "cell_type": "code",
   "execution_count": null,
   "id": "885d07e3",
   "metadata": {},
   "outputs": [],
   "source": [
    "refer_ui = []\n",
    "\n",
    "for child in root_1:\n",
    "    for c in child.findall('HeadingMappedToList'):\n",
    "        temp = []\n",
    "        for ui in c.iter('DescriptorUI'):\n",
    "            temp.append(ui.text)\n",
    "        refer_ui.append(', '.join(temp))\n",
    "\n",
    "refer_ui"
   ]
  },
  {
   "cell_type": "code",
   "execution_count": 124,
   "id": "5403169e",
   "metadata": {},
   "outputs": [
    {
     "data": {
      "text/plain": [
       "317982"
      ]
     },
     "execution_count": 124,
     "metadata": {},
     "output_type": "execute_result"
    }
   ],
   "source": [
    "len(refer_ui)"
   ]
  },
  {
   "cell_type": "code",
   "execution_count": null,
   "id": "1dc64a9a",
   "metadata": {},
   "outputs": [],
   "source": [
    "df_supp = pd.DataFrame(list(zip(supp_names, supp_ui, refer_ui)), columns=['supp_names', 'supp_ui', 'refer_ui'])\n",
    "df_supp"
   ]
  },
  {
   "cell_type": "code",
   "execution_count": 126,
   "id": "041c0820",
   "metadata": {},
   "outputs": [],
   "source": [
    "df_supp.to_csv('supp_names_ui_refer_ui.csv', index=False)"
   ]
  },
  {
   "cell_type": "code",
   "execution_count": null,
   "id": "faea2851",
   "metadata": {},
   "outputs": [],
   "source": []
  },
  {
   "cell_type": "code",
   "execution_count": 127,
   "id": "aedcbb04",
   "metadata": {},
   "outputs": [],
   "source": [
    "# extract data from pa.xml\n",
    "tree_2 = ET.parse('pa2021.xml')\n",
    "root_2 = tree_2.getroot()"
   ]
  },
  {
   "cell_type": "code",
   "execution_count": 131,
   "id": "4706b77e",
   "metadata": {},
   "outputs": [
    {
     "data": {
      "text/plain": [
       "'PharmacologicalActionSet'"
      ]
     },
     "execution_count": 131,
     "metadata": {},
     "output_type": "execute_result"
    }
   ],
   "source": [
    "root_2.tag"
   ]
  },
  {
   "cell_type": "code",
   "execution_count": null,
   "id": "4aac70c1",
   "metadata": {},
   "outputs": [],
   "source": [
    "i = 0\n",
    "for child in root_2:\n",
    "    print(child.tag)\n",
    "    for c in child:\n",
    "        print(c.tag)\n",
    "    i += 1"
   ]
  },
  {
   "cell_type": "code",
   "execution_count": null,
   "id": "2a8c0cb2",
   "metadata": {},
   "outputs": [],
   "source": [
    "pa_name = []\n",
    "pa_ui = []\n",
    "refer_ui = []\n",
    "refer_names = []\n",
    "\n",
    "for child in root_2:   \n",
    "    for c in child.findall('DescriptorReferredTo'):\n",
    "        ui = c.find('DescriptorUI')\n",
    "        name = c.find('DescriptorName')\n",
    "        n = name.find('String')\n",
    "        \n",
    "        pa_ui.append(ui.text)\n",
    "        pa_name.append(n.text)\n",
    "        \n",
    "    for c in child.findall('PharmacologicalActionSubstanceList'):\n",
    "        temp_ui = []\n",
    "        temp_name = []\n",
    "        for substance in c.findall('Substance'):\n",
    "            ui = substance.find('RecordUI')\n",
    "            temp_ui.append(ui.text)\n",
    "            \n",
    "            for n in substance.findall('RecordName'):\n",
    "                name = n.find('String')\n",
    "                temp_name.append(name.text)\n",
    "            \n",
    "        refer_ui.append(', '.join(temp_ui))    \n",
    "        refer_names.append(', '.join(temp_name))\n",
    "            \n",
    "        \n",
    "#         refer_ui.append(substance_ui)\n",
    "\n",
    "refer_names"
   ]
  },
  {
   "cell_type": "code",
   "execution_count": 149,
   "id": "3d8746b3",
   "metadata": {},
   "outputs": [
    {
     "data": {
      "text/plain": [
       "551"
      ]
     },
     "execution_count": 149,
     "metadata": {},
     "output_type": "execute_result"
    },
    {
     "data": {
      "text/plain": [
       "551"
      ]
     },
     "execution_count": 149,
     "metadata": {},
     "output_type": "execute_result"
    }
   ],
   "source": [
    "len(pa_ui)\n",
    "len(pa_name)"
   ]
  },
  {
   "cell_type": "code",
   "execution_count": null,
   "id": "d13b21b3",
   "metadata": {},
   "outputs": [],
   "source": [
    "refer_ui\n",
    "len(refer_ui)"
   ]
  },
  {
   "cell_type": "code",
   "execution_count": 184,
   "id": "17f97152",
   "metadata": {},
   "outputs": [],
   "source": [
    "# make a df\n",
    "\n",
    "df_pa = pd.DataFrame(list(zip(pa_name, pa_ui, refer_ui, refer_names)), columns=['pa_name', 'pa_ui', 'refer_ui', 'refer_names'])"
   ]
  },
  {
   "cell_type": "code",
   "execution_count": 185,
   "id": "741e0a7f",
   "metadata": {},
   "outputs": [
    {
     "data": {
      "text/html": [
       "<div>\n",
       "<style scoped>\n",
       "    .dataframe tbody tr th:only-of-type {\n",
       "        vertical-align: middle;\n",
       "    }\n",
       "\n",
       "    .dataframe tbody tr th {\n",
       "        vertical-align: top;\n",
       "    }\n",
       "\n",
       "    .dataframe thead th {\n",
       "        text-align: right;\n",
       "    }\n",
       "</style>\n",
       "<table border=\"1\" class=\"dataframe\">\n",
       "  <thead>\n",
       "    <tr style=\"text-align: right;\">\n",
       "      <th></th>\n",
       "      <th>pa_name</th>\n",
       "      <th>pa_ui</th>\n",
       "      <th>refer_ui</th>\n",
       "      <th>refer_names</th>\n",
       "    </tr>\n",
       "  </thead>\n",
       "  <tbody>\n",
       "    <tr>\n",
       "      <th>0</th>\n",
       "      <td>14-alpha Demethylase Inhibitors</td>\n",
       "      <td>D058888</td>\n",
       "      <td>D003022, D004464, D015725, C486878, D017964, D...</td>\n",
       "      <td>Clotrimazole, Econazole, Fluconazole, fosfluco...</td>\n",
       "    </tr>\n",
       "    <tr>\n",
       "      <th>1</th>\n",
       "      <td>5-alpha Reductase Inhibitors</td>\n",
       "      <td>D058891</td>\n",
       "      <td>C088574, C088478, C031563, C047523, C525135, C...</td>\n",
       "      <td>(22RS-N-1,1,1-trifluoro-2-phenylprop-2-yl)-3-o...</td>\n",
       "    </tr>\n",
       "    <tr>\n",
       "      <th>2</th>\n",
       "      <td>5-Lipoxygenase-Activating Protein Inhibitors</td>\n",
       "      <td>D058946</td>\n",
       "      <td>C078266</td>\n",
       "      <td>MK 0591</td>\n",
       "    </tr>\n",
       "    <tr>\n",
       "      <th>3</th>\n",
       "      <td>Abortifacient Agents</td>\n",
       "      <td>D000019</td>\n",
       "      <td>C030266, C068866, D002260, D015237, C010714, C...</td>\n",
       "      <td>3-(2-ethylphenyl)-5-(3-methoxyphenyl)-1H-1,2,4...</td>\n",
       "    </tr>\n",
       "    <tr>\n",
       "      <th>4</th>\n",
       "      <td>Abortifacient Agents, Nonsteroidal</td>\n",
       "      <td>D000020</td>\n",
       "      <td>C030266, D002260, D015237, C010714, C039153, C...</td>\n",
       "      <td>3-(2-ethylphenyl)-5-(3-methoxyphenyl)-1H-1,2,4...</td>\n",
       "    </tr>\n",
       "    <tr>\n",
       "      <th>...</th>\n",
       "      <td>...</td>\n",
       "      <td>...</td>\n",
       "      <td>...</td>\n",
       "      <td>...</td>\n",
       "    </tr>\n",
       "    <tr>\n",
       "      <th>546</th>\n",
       "      <td>Vitamins</td>\n",
       "      <td>D014815</td>\n",
       "      <td>C042533, D015650, D015652, C016705, D000108, C...</td>\n",
       "      <td>1 alpha-hydroxyergocalciferol, 24,25-Dihydroxy...</td>\n",
       "    </tr>\n",
       "    <tr>\n",
       "      <th>547</th>\n",
       "      <td>Voltage-Gated Sodium Channel Agonists</td>\n",
       "      <td>D061585</td>\n",
       "      <td>D000157</td>\n",
       "      <td>Aconitine</td>\n",
       "    </tr>\n",
       "    <tr>\n",
       "      <th>548</th>\n",
       "      <td>Voltage-Gated Sodium Channel Blockers</td>\n",
       "      <td>D061567</td>\n",
       "      <td>D000404, D001073, D004206, C000712258, D016700...</td>\n",
       "      <td>Ajmaline, Aprindine, Disopyramide, DS-1971a, E...</td>\n",
       "    </tr>\n",
       "    <tr>\n",
       "      <th>549</th>\n",
       "      <td>Wakefulness-Promoting Agents</td>\n",
       "      <td>D064690</td>\n",
       "      <td>D000077408</td>\n",
       "      <td>Modafinil</td>\n",
       "    </tr>\n",
       "    <tr>\n",
       "      <th>550</th>\n",
       "      <td>Water Pollutants, Chemical</td>\n",
       "      <td>D014874</td>\n",
       "      <td>C009540</td>\n",
       "      <td>triclocarban</td>\n",
       "    </tr>\n",
       "  </tbody>\n",
       "</table>\n",
       "<p>551 rows × 4 columns</p>\n",
       "</div>"
      ],
      "text/plain": [
       "                                          pa_name    pa_ui  \\\n",
       "0                 14-alpha Demethylase Inhibitors  D058888   \n",
       "1                    5-alpha Reductase Inhibitors  D058891   \n",
       "2    5-Lipoxygenase-Activating Protein Inhibitors  D058946   \n",
       "3                            Abortifacient Agents  D000019   \n",
       "4              Abortifacient Agents, Nonsteroidal  D000020   \n",
       "..                                            ...      ...   \n",
       "546                                      Vitamins  D014815   \n",
       "547         Voltage-Gated Sodium Channel Agonists  D061585   \n",
       "548         Voltage-Gated Sodium Channel Blockers  D061567   \n",
       "549                  Wakefulness-Promoting Agents  D064690   \n",
       "550                    Water Pollutants, Chemical  D014874   \n",
       "\n",
       "                                              refer_ui  \\\n",
       "0    D003022, D004464, D015725, C486878, D017964, D...   \n",
       "1    C088574, C088478, C031563, C047523, C525135, C...   \n",
       "2                                              C078266   \n",
       "3    C030266, C068866, D002260, D015237, C010714, C...   \n",
       "4    C030266, D002260, D015237, C010714, C039153, C...   \n",
       "..                                                 ...   \n",
       "546  C042533, D015650, D015652, C016705, D000108, C...   \n",
       "547                                            D000157   \n",
       "548  D000404, D001073, D004206, C000712258, D016700...   \n",
       "549                                         D000077408   \n",
       "550                                            C009540   \n",
       "\n",
       "                                           refer_names  \n",
       "0    Clotrimazole, Econazole, Fluconazole, fosfluco...  \n",
       "1    (22RS-N-1,1,1-trifluoro-2-phenylprop-2-yl)-3-o...  \n",
       "2                                              MK 0591  \n",
       "3    3-(2-ethylphenyl)-5-(3-methoxyphenyl)-1H-1,2,4...  \n",
       "4    3-(2-ethylphenyl)-5-(3-methoxyphenyl)-1H-1,2,4...  \n",
       "..                                                 ...  \n",
       "546  1 alpha-hydroxyergocalciferol, 24,25-Dihydroxy...  \n",
       "547                                          Aconitine  \n",
       "548  Ajmaline, Aprindine, Disopyramide, DS-1971a, E...  \n",
       "549                                          Modafinil  \n",
       "550                                       triclocarban  \n",
       "\n",
       "[551 rows x 4 columns]"
      ]
     },
     "execution_count": 185,
     "metadata": {},
     "output_type": "execute_result"
    }
   ],
   "source": [
    "df_pa"
   ]
  },
  {
   "cell_type": "code",
   "execution_count": 186,
   "id": "92fac152",
   "metadata": {},
   "outputs": [],
   "source": [
    "df_pa.to_csv('pa2021.csv', index=False)"
   ]
  },
  {
   "cell_type": "code",
   "execution_count": null,
   "id": "a59c96e8",
   "metadata": {},
   "outputs": [],
   "source": []
  }
 ],
 "metadata": {
  "kernelspec": {
   "display_name": "Python 3 (ipykernel)",
   "language": "python",
   "name": "python3"
  },
  "language_info": {
   "codemirror_mode": {
    "name": "ipython",
    "version": 3
   },
   "file_extension": ".py",
   "mimetype": "text/x-python",
   "name": "python",
   "nbconvert_exporter": "python",
   "pygments_lexer": "ipython3",
   "version": "3.8.11"
  }
 },
 "nbformat": 4,
 "nbformat_minor": 5
}
